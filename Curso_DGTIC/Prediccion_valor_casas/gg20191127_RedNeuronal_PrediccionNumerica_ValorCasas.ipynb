{
 "cells": [
  {
   "cell_type": "markdown",
   "metadata": {},
   "source": [
    "## Mis primeros pasos en Redes Neuronales (Neural Networks)\n",
    "### Predicción numérica de casas: Regresión lineal multivariada\n",
    "#### Dr. Gabriel Guerrero\n",
    "#### saxsa2000@gmail.com\n",
    "#### FechaCreacion: 20191127\n",
    "#### Referencia: gg20191127_RedNeuronal_PredicciónNumerica_ValorCasas.ipynb\n",
    "\n",
    "\n",
    "Introducción\n",
    "\n",
    "Este cuaderno (notebook de python) contiene el ejemplo, modificado y aumentado, del Capitulo 3, Sección 6 del libro Deep Learning with Python, del gran maestro y autor de Keras, F Chollet.\n",
    "\n",
    "El URL del libro:\n",
    "\n",
    "(https://www.manning.com/books/deep-learning-with-python?a_aid=keras&a_bid=76564dff).\n",
    "\n",
    "Se los recomiendo ampliamente. Este autor además de ser un gran innovador, su transmisión de conocimientos por medio de su libro, es una obra de arte para los que nos apasionan los temas alrededor de las aplicaciones de la Matemática y la Ciencia de Datos.\n",
    "\n",
    "En este ejemplo se muestra el uso de la biblioteca Keras con Python para la predicción numérica de valores de casas, conocido como algoritmo supervisado de regresión lineal. Este es el problema de la regresión lineal multivariada.\n",
    "\n",
    "Este es un ejercicio tradicional en Inteligencia Artificial y constituye un ejemplo  \"Hola Mundo de Predicción numérica de valores continuos\" (\"Hello World Predicting a continuous value\"), como existe en todos los ámbitos de la programación.\n"
   ]
  },
  {
   "cell_type": "markdown",
   "metadata": {},
   "source": [
    "La regresión lineal múltiple permite:\n",
    "\n",
    "identificar que variables independientes (causas) explican una variable dependiente (resultado)\n",
    "\n",
    "predecir valores de una variable, es decir, a partir de unas características predecir de forma aproximada un comportamiento o estado\n"
   ]
  },
  {
   "cell_type": "code",
   "execution_count": 1,
   "metadata": {},
   "outputs": [],
   "source": [
    "import matplotlib.pyplot as plt\n",
    "### import numpy\n",
    "import numpy as np\n",
    "\n",
    "\n",
    "%matplotlib inline"
   ]
  },
  {
   "cell_type": "code",
   "execution_count": 2,
   "metadata": {},
   "outputs": [
    {
     "name": "stderr",
     "output_type": "stream",
     "text": [
      "Using TensorFlow backend.\n",
      "/home/saXsa/anaconda3/envs/keras/lib/python3.7/site-packages/tensorflow/python/framework/dtypes.py:526: FutureWarning: Passing (type, 1) or '1type' as a synonym of type is deprecated; in a future version of numpy, it will be understood as (type, (1,)) / '(1,)type'.\n",
      "  _np_qint8 = np.dtype([(\"qint8\", np.int8, 1)])\n",
      "/home/saXsa/anaconda3/envs/keras/lib/python3.7/site-packages/tensorflow/python/framework/dtypes.py:527: FutureWarning: Passing (type, 1) or '1type' as a synonym of type is deprecated; in a future version of numpy, it will be understood as (type, (1,)) / '(1,)type'.\n",
      "  _np_quint8 = np.dtype([(\"quint8\", np.uint8, 1)])\n",
      "/home/saXsa/anaconda3/envs/keras/lib/python3.7/site-packages/tensorflow/python/framework/dtypes.py:528: FutureWarning: Passing (type, 1) or '1type' as a synonym of type is deprecated; in a future version of numpy, it will be understood as (type, (1,)) / '(1,)type'.\n",
      "  _np_qint16 = np.dtype([(\"qint16\", np.int16, 1)])\n",
      "/home/saXsa/anaconda3/envs/keras/lib/python3.7/site-packages/tensorflow/python/framework/dtypes.py:529: FutureWarning: Passing (type, 1) or '1type' as a synonym of type is deprecated; in a future version of numpy, it will be understood as (type, (1,)) / '(1,)type'.\n",
      "  _np_quint16 = np.dtype([(\"quint16\", np.uint16, 1)])\n",
      "/home/saXsa/anaconda3/envs/keras/lib/python3.7/site-packages/tensorflow/python/framework/dtypes.py:530: FutureWarning: Passing (type, 1) or '1type' as a synonym of type is deprecated; in a future version of numpy, it will be understood as (type, (1,)) / '(1,)type'.\n",
      "  _np_qint32 = np.dtype([(\"qint32\", np.int32, 1)])\n",
      "/home/saXsa/anaconda3/envs/keras/lib/python3.7/site-packages/tensorflow/python/framework/dtypes.py:535: FutureWarning: Passing (type, 1) or '1type' as a synonym of type is deprecated; in a future version of numpy, it will be understood as (type, (1,)) / '(1,)type'.\n",
      "  np_resource = np.dtype([(\"resource\", np.ubyte, 1)])\n"
     ]
    }
   ],
   "source": [
    "import keras\n",
    "from keras.models import model_from_json\n",
    "\n",
    "###keras.__version__"
   ]
  },
  {
   "cell_type": "markdown",
   "metadata": {},
   "source": [
    "\n",
    "# Predicción de un valor numérico. Valor de una casa.\n",
    "# Algoritmo: regresión lineal\n",
    "\n",
    "\n",
    "Un ejemplo de aplicación del Aprendizaje Automatizado (Machine Learning) Supervisado es la predicción de un valor numérico por medio de un algoritmo conocido como \"regresión\" o regresión lineal.\n",
    "\n",
    "En el caso presente, se tiene un conjunto de datos de valor en dólares de casas de Boston. Por medio de los costos conocidos de casas basados en varias características, se debe predecir el costo de una casa que no se encuentra en el conjunto de datos inicial.\n",
    "\n",
    "Es decir, utilizando este conjunto de datos, se desea realizar un modelo que permita predecir el valor de otras casas que no se encuentran en el conjunto de datos.\n",
    "\n",
    "Este es un ejemplo tradicional del Aprendizaje Automatizado Supervisado, en donde se cuenta con diversas características conocidas y el valor de un producto. Por medio de estos datos se desea establecer un mecanismo de predicción para otros productos con mismo conjunto de características, pero que no se conozca su valor. Es decir, deseamos predecir el valor de un producto que no se encuentra en los anteriores. Este es el problema de la regresión lineal multivariada o múltiple clasico de la Estadistica."
   ]
  },
  {
   "cell_type": "markdown",
   "metadata": {},
   "source": [
    "La regresión lineal múltiple permite:\n",
    "\n",
    "identificar que variables independientes (causas) explican una variable dependiente (resultado)\n",
    "\n",
    "predecir valores de una variable, es decir, a partir de unas características predecir de forma aproximada un comportamiento o estado"
   ]
  },
  {
   "cell_type": "markdown",
   "metadata": {},
   "source": [
    "\n",
    "## El conjunto de datos de casas de Boston para predicción del precio\n",
    "\n",
    "\n",
    "El conjunto de datos tiene un total de 506 registros, repartidos como 404 datos de entrenamiento y 102 datos para la evaluación del modelo.\n",
    "\n",
    "Las características (features) de los registros miden aspectos diferentes de la casa, por ejemplo tasa de criminalidad, tasa de impuestos locales de predial, y otros. En el caso presente se tienen 13 características para cada casa y un precio en dólares del valor de la casa.\n",
    "\n",
    "\n",
    "El objetivo del modelo es predecir el precio promedio de las casas en el mismo vecindario, dados algunos parámetros o características (features) como la tasa de crimenes (crime rate), la tasa impositiva del predio (local property tax rate), y otras características similares. \n",
    "\n",
    "Cada una de estas características tiene un rango diferente de valores y medidas diferentes, por lo que según las mejores prácticas de la estadística, se requiere normalizar en una primera etapa, todas las características a valores entre 0 y 1.\n",
    "\n",
    "En este contexto se tiene un número reducido de puntos, en total 506 con 404 de entrenamiento y 102 para evaluación. Esto nos sugiere según las mejores prácticas utilizar un método de pruebas y evaluación conocido como **Validacion cruzada con k elementos** (\"K-fold cross-validation\").\n",
    "\n",
    "\n",
    "Los datos del proyecto se encuentran en la biblioteca keras y se obtienen por medio de una función **load_data()** que se encuentra en el modulo keras.datasets\n"
   ]
  },
  {
   "cell_type": "code",
   "execution_count": 3,
   "metadata": {},
   "outputs": [],
   "source": [
    "from keras.datasets import boston_housing\n",
    "\n",
    "(train_data, train_targets), (evaluation_data, evaluation_targets) =  boston_housing.load_data()"
   ]
  },
  {
   "cell_type": "markdown",
   "metadata": {},
   "source": [
    "Por medio de este enunciado se obtienen 4 conjuntos de datos.\n",
    "\n",
    "Dos conjuntos de datos que contienen las características y etiquetas para el entrenamiento, denominados\n",
    "\n",
    "(train_data, train_targets)\n",
    "\n",
    "Dos conjuntos de datos que contienen las características y etiquetas para la evaluación, denominados\n",
    "\n",
    "(evaluation_data, evaluation_targets) \n",
    "\n"
   ]
  },
  {
   "cell_type": "markdown",
   "metadata": {},
   "source": [
    "## Análisis Exploratorio de Datos\n",
    "\n",
    "Por medio de enunciados Python podemos analizar el tipo, estructura y contenido de estos conjuntos de datos\n",
    "\n"
   ]
  },
  {
   "cell_type": "code",
   "execution_count": 4,
   "metadata": {},
   "outputs": [
    {
     "data": {
      "text/plain": [
       "dtype('float64')"
      ]
     },
     "execution_count": 4,
     "metadata": {},
     "output_type": "execute_result"
    }
   ],
   "source": [
    "train_data.dtype"
   ]
  },
  {
   "cell_type": "code",
   "execution_count": 5,
   "metadata": {},
   "outputs": [
    {
     "data": {
      "text/plain": [
       "(404, 13)"
      ]
     },
     "execution_count": 5,
     "metadata": {},
     "output_type": "execute_result"
    }
   ],
   "source": [
    "train_data.shape"
   ]
  },
  {
   "cell_type": "code",
   "execution_count": 6,
   "metadata": {},
   "outputs": [
    {
     "data": {
      "text/plain": [
       "(13,)"
      ]
     },
     "execution_count": 6,
     "metadata": {},
     "output_type": "execute_result"
    }
   ],
   "source": [
    "train_data[0].shape"
   ]
  },
  {
   "cell_type": "code",
   "execution_count": 7,
   "metadata": {},
   "outputs": [
    {
     "data": {
      "text/plain": [
       "array([  1.23247,   0.     ,   8.14   ,   0.     ,   0.538  ,   6.142  ,\n",
       "        91.7    ,   3.9769 ,   4.     , 307.     ,  21.     , 396.9    ,\n",
       "        18.72   ])"
      ]
     },
     "execution_count": 7,
     "metadata": {},
     "output_type": "execute_result"
    }
   ],
   "source": [
    "train_data[0]"
   ]
  },
  {
   "cell_type": "markdown",
   "metadata": {},
   "source": [
    "Esto nos indica que cada punto del conjunto de 404 datos de train_data tiene 13 valores.\n",
    "\n",
    "Como se observa los valores tienen órdenes de magnitud muy dispersos.\n",
    "\n"
   ]
  },
  {
   "cell_type": "code",
   "execution_count": 8,
   "metadata": {},
   "outputs": [
    {
     "data": {
      "text/plain": [
       "dtype('float64')"
      ]
     },
     "execution_count": 8,
     "metadata": {},
     "output_type": "execute_result"
    }
   ],
   "source": [
    "train_targets.dtype"
   ]
  },
  {
   "cell_type": "code",
   "execution_count": 9,
   "metadata": {},
   "outputs": [
    {
     "data": {
      "text/plain": [
       "(404,)"
      ]
     },
     "execution_count": 9,
     "metadata": {},
     "output_type": "execute_result"
    }
   ],
   "source": [
    "train_targets.shape"
   ]
  },
  {
   "cell_type": "code",
   "execution_count": 10,
   "metadata": {},
   "outputs": [
    {
     "data": {
      "text/plain": [
       "15.2"
      ]
     },
     "execution_count": 10,
     "metadata": {},
     "output_type": "execute_result"
    }
   ],
   "source": [
    "train_targets[0]"
   ]
  },
  {
   "cell_type": "markdown",
   "metadata": {},
   "source": [
    "Esto nos indica que la etiqueta del primer punto (casa) del conjunto tiene un valor de 15,200 dolares. Recordemos que la cantidad esta expresada en miles de dólares."
   ]
  },
  {
   "cell_type": "code",
   "execution_count": 11,
   "metadata": {},
   "outputs": [
    {
     "data": {
      "text/plain": [
       "dtype('float64')"
      ]
     },
     "execution_count": 11,
     "metadata": {},
     "output_type": "execute_result"
    }
   ],
   "source": [
    "evaluation_data.dtype"
   ]
  },
  {
   "cell_type": "code",
   "execution_count": 12,
   "metadata": {},
   "outputs": [
    {
     "data": {
      "text/plain": [
       "(102, 13)"
      ]
     },
     "execution_count": 12,
     "metadata": {},
     "output_type": "execute_result"
    }
   ],
   "source": [
    "evaluation_data.shape"
   ]
  },
  {
   "cell_type": "code",
   "execution_count": 13,
   "metadata": {},
   "outputs": [
    {
     "data": {
      "text/plain": [
       "(13,)"
      ]
     },
     "execution_count": 13,
     "metadata": {},
     "output_type": "execute_result"
    }
   ],
   "source": [
    "evaluation_data[0].shape"
   ]
  },
  {
   "cell_type": "code",
   "execution_count": 14,
   "metadata": {},
   "outputs": [
    {
     "data": {
      "text/plain": [
       "array([ 18.0846,   0.    ,  18.1   ,   0.    ,   0.679 ,   6.434 ,\n",
       "       100.    ,   1.8347,  24.    , 666.    ,  20.2   ,  27.25  ,\n",
       "        29.05  ])"
      ]
     },
     "execution_count": 14,
     "metadata": {},
     "output_type": "execute_result"
    }
   ],
   "source": [
    "evaluation_data[0]"
   ]
  },
  {
   "cell_type": "code",
   "execution_count": 15,
   "metadata": {},
   "outputs": [
    {
     "data": {
      "text/plain": [
       "7.2"
      ]
     },
     "execution_count": 15,
     "metadata": {},
     "output_type": "execute_result"
    }
   ],
   "source": [
    "evaluation_targets[0]"
   ]
  },
  {
   "cell_type": "markdown",
   "metadata": {},
   "source": [
    "Como se observa de la salida del código Python, el conjunto de datos de entrenamiento tiene un total de 404 registros y 13 características\n",
    "\n",
    "Tenemos las siguientes características de las casas para evaluar su precio, tal vez no aplicables a México:\n",
    "\n",
    "1. Tasa de criminalidad per cápita. (Per capita crime rate.)\n",
    "\n",
    "2. Proporción de terreno residencial dividido en zonas para lotes de más de 25,000 pies cuadrados. (proportion of residential land zoned for lots over 25,000 square feet.)\n",
    "  \n",
    "3. Proporción de acres de negocios no minoristas por ciudad. (Proportion of non-retail business acres per town.)\n",
    "  \n",
    "4. Variable Si/No de colindancia con el rio Charles River, Si= 1 si el tramo limita el río, No=0 de lo contrario. (Charles River dummy variable (= 1 if tract bounds river; 0 otherwise).\n",
    "  \n",
    "5. Concentración de óxidos nítricos, partes por 10 millones. (Nitric oxides concentration, parts per 10 million)\n",
    "  \n",
    "6. Promedio de habitaciones por vivienda. (Average number of rooms per dwelling.)\n",
    "    \n",
    "7. Proporción de unidades ocupadas por sus propietarios construidas antes de 1940.  (Proportion of owner-occupied units built prior to 1940)\n",
    "    \n",
    "8. Distancias ponderadas a cinco centros de empleo de Boston. (Weighted distances to five Boston employment centres)\n",
    "\n",
    "9. Índice de accesibilidad a carreteras radiales. (Index of accessibility to radial highways.)\n",
    "\n",
    "10.  Tasa de impuesto a la propiedad de valor completo por $10,000. (Full-value property-tax rate per $10,000)\n",
    "\n",
    "11. Proporción de alumno / profesor en la ciudad. (Pupil-teacher ratio by town)\n",
    "\n",
    "12. Medida habitantes de origen piel negra. 1000 * (Bk - 0.63) ** 2 donde Bk es la proporción de personas negras por ciudad. (Bk is the proportion of Black people by town)\n",
    "\n",
    "13. % de la población de menores recursos. \n",
    "\n",
    "La etiqueta es el valor promedio del costo de la casa en miles de dólares. Estos precios son de los años 1970 y oscilan entre 10,000 y 50,000 dólares"
   ]
  },
  {
   "cell_type": "code",
   "execution_count": 17,
   "metadata": {},
   "outputs": [
    {
     "data": {
      "text/plain": [
       "array([  1.23247,   0.     ,   8.14   ,   0.     ,   0.538  ,   6.142  ,\n",
       "        91.7    ,   3.9769 ,   4.     , 307.     ,  21.     , 396.9    ,\n",
       "        18.72   ])"
      ]
     },
     "execution_count": 17,
     "metadata": {},
     "output_type": "execute_result"
    }
   ],
   "source": [
    "train_data[0]"
   ]
  },
  {
   "cell_type": "code",
   "execution_count": 18,
   "metadata": {},
   "outputs": [
    {
     "data": {
      "text/plain": [
       "15.2"
      ]
     },
     "execution_count": 18,
     "metadata": {},
     "output_type": "execute_result"
    }
   ],
   "source": [
    "train_targets[0]"
   ]
  },
  {
   "cell_type": "markdown",
   "metadata": {},
   "source": [
    "### Preparación de los datos de entrada\n",
    "\n",
    "Como se observa, las características (features) de los puntos en los conjuntos de datos toman valores en diferentes escalas. Por lo que deben homogeneizarse con un proceso que denominamos <strong>Preparación de los datos de entrada</strong>\n",
    "\n",
    "La preparacion de los datos es una de las actividades estratégicas en la Inteligencia Artificial y en general en la Ciencia de Datos. Esto es esencial para que los modelos matemáticos que se construyen, tengan resultados con significado. "
   ]
  },
  {
   "cell_type": "markdown",
   "metadata": {},
   "source": [
    "Dada la diversidad de rangos y medidas diferentes de las características, un buena práctica en estadistica es normalizar las características, tomando por cada característica (una columna en los datos de entrada), la **media** (mean) de sus valores, restarla al valor actual y dividir el resultado por la **desviación estándar**.\n",
    "\n",
    "Por medio de este procedimiento, el valor de la característica esta centrada alrededor del valor 0 y tendrá una desviación estándar unitaria.\n",
    "\n",
    "Para realizar esta normalización se utiliza la biblioteca Python Numpy."
   ]
  },
  {
   "cell_type": "code",
   "execution_count": 19,
   "metadata": {},
   "outputs": [
    {
     "data": {
      "text/plain": [
       "array([  1.23247,   0.     ,   8.14   ,   0.     ,   0.538  ,   6.142  ,\n",
       "        91.7    ,   3.9769 ,   4.     , 307.     ,  21.     , 396.9    ,\n",
       "        18.72   ])"
      ]
     },
     "execution_count": 19,
     "metadata": {},
     "output_type": "execute_result"
    }
   ],
   "source": [
    "train_data[0]"
   ]
  },
  {
   "cell_type": "code",
   "execution_count": 20,
   "metadata": {},
   "outputs": [],
   "source": [
    "mean = train_data.mean(axis=0)\n"
   ]
  },
  {
   "cell_type": "code",
   "execution_count": 21,
   "metadata": {},
   "outputs": [
    {
     "data": {
      "text/plain": [
       "array([3.74511057e+00, 1.14801980e+01, 1.11044307e+01, 6.18811881e-02,\n",
       "       5.57355941e-01, 6.26708168e+00, 6.90106436e+01, 3.74027079e+00,\n",
       "       9.44059406e+00, 4.05898515e+02, 1.84759901e+01, 3.54783168e+02,\n",
       "       1.27408168e+01])"
      ]
     },
     "execution_count": 21,
     "metadata": {},
     "output_type": "execute_result"
    }
   ],
   "source": [
    "mean"
   ]
  },
  {
   "cell_type": "code",
   "execution_count": 22,
   "metadata": {},
   "outputs": [],
   "source": [
    "train_dataCentradoMedia = train_data - mean"
   ]
  },
  {
   "cell_type": "code",
   "execution_count": 24,
   "metadata": {},
   "outputs": [
    {
     "data": {
      "text/plain": [
       "array([-2.51264057e+00, -1.14801980e+01, -2.96443069e+00, -6.18811881e-02,\n",
       "       -1.93559406e-02, -1.25081683e-01,  2.26893564e+01,  2.36629208e-01,\n",
       "       -5.44059406e+00, -9.88985149e+01,  2.52400990e+00,  4.21168317e+01,\n",
       "        5.97918317e+00])"
      ]
     },
     "execution_count": 24,
     "metadata": {},
     "output_type": "execute_result"
    }
   ],
   "source": [
    "train_dataCentradoMedia[0]"
   ]
  },
  {
   "cell_type": "code",
   "execution_count": 25,
   "metadata": {},
   "outputs": [
    {
     "data": {
      "text/plain": [
       "array([9.22929073e+00, 2.37382770e+01, 6.80287253e+00, 2.40939633e-01,\n",
       "       1.17147847e-01, 7.08908627e-01, 2.79060634e+01, 2.02770050e+00,\n",
       "       8.68758849e+00, 1.66168506e+02, 2.19765689e+00, 9.39946015e+01,\n",
       "       7.24556085e+00])"
      ]
     },
     "execution_count": 25,
     "metadata": {},
     "output_type": "execute_result"
    }
   ],
   "source": [
    "stdCentradoMedia = train_dataCentradoMedia.std(axis=0)\n",
    "\n",
    "stdCentradoMedia"
   ]
  },
  {
   "cell_type": "code",
   "execution_count": 26,
   "metadata": {},
   "outputs": [],
   "source": [
    "train_dataCentradoMediaNormalizadoDesviacionEstandar = train_dataCentradoMedia / stdCentradoMedia"
   ]
  },
  {
   "cell_type": "code",
   "execution_count": 27,
   "metadata": {},
   "outputs": [
    {
     "data": {
      "text/plain": [
       "array([-0.27224633, -0.48361547, -0.43576161, -0.25683275, -0.1652266 ,\n",
       "       -0.1764426 ,  0.81306188,  0.1166983 , -0.62624905, -0.59517003,\n",
       "        1.14850044,  0.44807713,  0.8252202 ])"
      ]
     },
     "execution_count": 27,
     "metadata": {},
     "output_type": "execute_result"
    }
   ],
   "source": [
    "train_dataCentradoMediaNormalizadoDesviacionEstandar[0]"
   ]
  },
  {
   "cell_type": "code",
   "execution_count": 28,
   "metadata": {},
   "outputs": [
    {
     "data": {
      "text/plain": [
       "dtype('float64')"
      ]
     },
     "execution_count": 28,
     "metadata": {},
     "output_type": "execute_result"
    }
   ],
   "source": [
    "stdCentradoMedia.dtype"
   ]
  },
  {
   "cell_type": "code",
   "execution_count": 29,
   "metadata": {},
   "outputs": [
    {
     "data": {
      "text/plain": [
       "(13,)"
      ]
     },
     "execution_count": 29,
     "metadata": {},
     "output_type": "execute_result"
    }
   ],
   "source": [
    "stdCentradoMedia.shape"
   ]
  },
  {
   "cell_type": "code",
   "execution_count": 30,
   "metadata": {},
   "outputs": [
    {
     "data": {
      "text/plain": [
       "array([-0.27224633, -0.48361547, -0.43576161, -0.25683275, -0.1652266 ,\n",
       "       -0.1764426 ,  0.81306188,  0.1166983 , -0.62624905, -0.59517003,\n",
       "        1.14850044,  0.44807713,  0.8252202 ])"
      ]
     },
     "execution_count": 30,
     "metadata": {},
     "output_type": "execute_result"
    }
   ],
   "source": [
    "train_dataCentradoMediaNormalizadoDesviacionEstandar[0]"
   ]
  },
  {
   "cell_type": "code",
   "execution_count": 31,
   "metadata": {},
   "outputs": [
    {
     "data": {
      "text/plain": [
       "13"
      ]
     },
     "execution_count": 31,
     "metadata": {},
     "output_type": "execute_result"
    }
   ],
   "source": [
    "train_dataCentradoMediaNormalizadoDesviacionEstandar.shape[1]"
   ]
  },
  {
   "cell_type": "code",
   "execution_count": 32,
   "metadata": {},
   "outputs": [
    {
     "data": {
      "text/plain": [
       "array([ 18.0846,   0.    ,  18.1   ,   0.    ,   0.679 ,   6.434 ,\n",
       "       100.    ,   1.8347,  24.    , 666.    ,  20.2   ,  27.25  ,\n",
       "        29.05  ])"
      ]
     },
     "execution_count": 32,
     "metadata": {},
     "output_type": "execute_result"
    }
   ],
   "source": [
    "evaluation_data[0]"
   ]
  },
  {
   "cell_type": "code",
   "execution_count": 33,
   "metadata": {},
   "outputs": [
    {
     "data": {
      "text/plain": [
       "array([3.74511057e+00, 1.14801980e+01, 1.11044307e+01, 6.18811881e-02,\n",
       "       5.57355941e-01, 6.26708168e+00, 6.90106436e+01, 3.74027079e+00,\n",
       "       9.44059406e+00, 4.05898515e+02, 1.84759901e+01, 3.54783168e+02,\n",
       "       1.27408168e+01])"
      ]
     },
     "execution_count": 33,
     "metadata": {},
     "output_type": "execute_result"
    }
   ],
   "source": [
    "mean"
   ]
  },
  {
   "cell_type": "code",
   "execution_count": 34,
   "metadata": {},
   "outputs": [],
   "source": [
    "evaluation_dataCentradoMedia = evaluation_data - mean"
   ]
  },
  {
   "cell_type": "code",
   "execution_count": 35,
   "metadata": {},
   "outputs": [
    {
     "data": {
      "text/plain": [
       "array([ 1.43394894e+01, -1.14801980e+01,  6.99556931e+00, -6.18811881e-02,\n",
       "        1.21644059e-01,  1.66918317e-01,  3.09893564e+01, -1.90557079e+00,\n",
       "        1.45594059e+01,  2.60101485e+02,  1.72400990e+00, -3.27533168e+02,\n",
       "        1.63091832e+01])"
      ]
     },
     "execution_count": 35,
     "metadata": {},
     "output_type": "execute_result"
    }
   ],
   "source": [
    "evaluation_dataCentradoMedia[0]"
   ]
  },
  {
   "cell_type": "code",
   "execution_count": 36,
   "metadata": {},
   "outputs": [],
   "source": [
    "evaluation_dataCentradoMediaNormalizadoDesviacionEstandar =  evaluation_dataCentradoMedia / stdCentradoMedia"
   ]
  },
  {
   "cell_type": "code",
   "execution_count": 37,
   "metadata": {},
   "outputs": [
    {
     "data": {
      "text/plain": [
       "array([ 1.55369355, -0.48361547,  1.0283258 , -0.25683275,  1.03838067,\n",
       "        0.23545815,  1.11048828, -0.93976936,  1.67588577,  1.5652875 ,\n",
       "        0.78447637, -3.48459553,  2.25092074])"
      ]
     },
     "execution_count": 37,
     "metadata": {},
     "output_type": "execute_result"
    }
   ],
   "source": [
    "evaluation_dataCentradoMediaNormalizadoDesviacionEstandar[0]"
   ]
  },
  {
   "cell_type": "code",
   "execution_count": 39,
   "metadata": {},
   "outputs": [
    {
     "data": {
      "text/plain": [
       "13"
      ]
     },
     "execution_count": 39,
     "metadata": {},
     "output_type": "execute_result"
    }
   ],
   "source": [
    "train_dataCentradoMediaNormalizadoDesviacionEstandar.shape[1]"
   ]
  },
  {
   "cell_type": "markdown",
   "metadata": {},
   "source": [
    "Es importante mencionar que para efectuar la normalizacion del conjunto de pruebas (evaluation_data) se utiliza la media y desviación estandar del conjunto de datos de entrenamiento\n",
    "\n",
    "Como una buena práctica de redes neuronales, se recomienda nunca utilizar en el flujo de la construccion ningún valor del conjunto de pruebas (evaluation_data)\n",
    "\n"
   ]
  },
  {
   "cell_type": "markdown",
   "metadata": {},
   "source": [
    "\n",
    "## Construcción de la red neuronal para la predicción del precio de casas\n",
    "\n",
    "Dado que el conjunto de datos tiene muy pocos registros, se construye una red neuronal con dos capas ocultas (hidden layers), cada una de las capas con 64 unidades.\n",
    "\n",
    "Como una buena práctica en Redes Neuronales, cuando se tienen pocos datos de entrenamiento se recomienda utilizar una red neuronal pequeña como una práctica para mitigar el **overfitting**  o sobre ajuste o entrenamiento en exceso del modelo."
   ]
  },
  {
   "cell_type": "code",
   "execution_count": 38,
   "metadata": {},
   "outputs": [],
   "source": [
    "from keras import models\n",
    "from keras import layers\n",
    "\n",
    "def build_model():\n",
    "    # \n",
    "    # Dado que se requiere generar instancias del mismo modelo\n",
    "    # en multiples ocasiones, utilizamos una funcion para construirlo\n",
    "    #\n",
    "\n",
    "    \n",
    "    model = models.Sequential()\n",
    "    model.add(layers.Dense(64, activation='relu',\n",
    "                           input_shape=(train_dataCentradoMediaNormalizadoDesviacionEstandar.shape[1],)))\n",
    "    model.add(layers.Dense(64, activation='relu'))\n",
    "    model.add(layers.Dense(1))\n",
    "    model.compile(optimizer='rmsprop', loss='mse', metrics=['mae'])\n",
    "    return model"
   ]
  },
  {
   "cell_type": "markdown",
   "metadata": {},
   "source": [
    "# Definición Red Neuronal con keras\n",
    "\n",
    "El concepto base de una red neuronal es la **capa** (layer).\n",
    "\n",
    "En la construcción de una red neuronal se debe definir cada una de las capas (layer).\n",
    "\n",
    "Una capa es un modulo de procesamiento de datos (data-processing module) que puede pensarse como un filtro que recibe datos y los transforma en otra representación que aporta valor a su entendimiento y a la solución de la problemática.\n",
    "\n",
    "Algunos datos entran en la capa y salen otros de la capa, con una representación de mayor utilidad para la solución del problema. (Some data comes in, and comes out in a more useful form). \n",
    "\n",
    "El concepto del Aprendizaje Profundo se refiere a encadenar capas sencillas que instrumentan una especie de proceso progresivo de \"destilación de datos\" (progressive \"data distillation\"). \n",
    "\n",
    "En el caso presente, la red neuronal consiste de una secuencia de dos capas `Dense`, con función de activación \"relu\", Rectified Linear Unit.\n",
    "\n",
    "Una capa tipo **Dense** tambien se conoce como **capa neuronal totalmente conectada** (\"fully-connected neural layer\"). Es decir, todas las neuronas de esta capa se conectan con las neuronas de la siguiente capa. \n",
    "\n",
    "Se define el tipo de red: **Sequential()**\n",
    "\n",
    "Se añade cada una de las capas (layer).\n",
    "\n",
    "La primera capa con tipo **Dense()**, número de neuronas en la capa, en el caso presente tenemos, 64\n",
    "\n",
    "La función de activación de la capa **activation='relu'**, y el tipo de forma de la entrada de los datos que se entregan a la red: **input_shape='784'**\n",
    "\n",
    "La segunda capa con tipo Dense(), número de neuronas en la capa (64), la función de activación de la capa:\n",
    "**activation='relu'**\n",
    "\n",
    "La tercera capa tiene 1 neuronas sin función de activación.\n",
    "\n"
   ]
  },
  {
   "cell_type": "markdown",
   "metadata": {},
   "source": [
    "\n",
    "La red neuronal al final tiene una sola neurona y no contiene función de activación.\n",
    "\n",
    "Este es el caso de una capa lineal o regresion lineal escalar en donde se debe establecer una predicción numérica de un solo valor continuo (predict a single continuous value). \n",
    "\n",
    "\n",
    "Observamos que estamos compilando la red con una función de perdida `mse` (Mean Squared Error).\n",
    "\n",
    "La función de pérdida mse es el cuadrado del error, es decir el cuadrado de la diferencia entre las predicciones y el objetivo (targets). \n",
    "\n",
    "Este es una función de error ampliamente utilizada en problemas de regresión lineal. \n"
   ]
  },
  {
   "cell_type": "markdown",
   "metadata": {},
   "source": [
    "En la etapa de entrenamiento se utiliza otra métrica:  `mae` (Mean Absolute Error).\n",
    "\n",
    "Error Absoluto Promedio. El error absoluto promedio es una medida común del error de pronóstico en análisis de series de tiempo.\n",
    "\n",
    "$\\mathrm{MAE}=\\frac{\\mathrm{SAE}}{N}=\\frac{\\sum_{i=1}^N \\left | x_i - \\hat x_i \\right |}{N}$\n",
    "\n",
    "SAE es la suma de los errores absolutos (o desviaciones)\n",
    "\n",
    "{$x_i$} son la observaciones actuales de las series de tiempo\n",
    "\n",
    "{$\\hat x_i$} es la serie de tiempo estimada o pronosticada\n",
    "\n",
    "\n"
   ]
  },
  {
   "cell_type": "markdown",
   "metadata": {},
   "source": [
    "\n",
    "## Validación del modelo utilizando la validación de tipo K-fold (K-fold validation)\n",
    "\n",
    "\n",
    "Para evaluar la red neuronal en la etapa de ajuste de sus parámetros (por ejemplo el número de épocas utilizadas en el entrenamiento), podemos de forma sencilla partir los datos en un conjunto de entrenamiento (training set) y un conjunto de validación o pruebas (validation set)\n",
    "\n",
    "Sin embargo, dado que se cuenta con un número limitado de puntos, el conjunto de pruebas o validación sera muy pequeño.\n",
    "\n",
    "En circunstancias similares, una de las mejores prácticas en Estadística es utilizar un método de validación denominado **Validacion cruzada con k elementos** (\"K-fold cross-validation\")\n",
    "\n",
    "El método consiste en partir el conjunto de datos disponibles en K particiones, generalmente se selecciona K=4 o K=5. \n",
    "\n",
    "Una vez construidos K modelos idénticos y habiendo realizado el entrenamiento de cada uno con K - 1 particiones y entrenando con la partición restante, el **score de validación del modelo es el promedio de los scores de las K validaciones obtenidas**\n"
   ]
  },
  {
   "cell_type": "markdown",
   "metadata": {},
   "source": [
    "En términos de código, tenemos lo siguiente:"
   ]
  },
  {
   "cell_type": "code",
   "execution_count": 40,
   "metadata": {},
   "outputs": [],
   "source": [
    "\n",
    "k = 4\n",
    "num_val_samples = len(train_dataCentradoMediaNormalizadoDesviacionEstandar) // k"
   ]
  },
  {
   "cell_type": "code",
   "execution_count": 41,
   "metadata": {},
   "outputs": [
    {
     "data": {
      "text/plain": [
       "404"
      ]
     },
     "execution_count": 41,
     "metadata": {},
     "output_type": "execute_result"
    }
   ],
   "source": [
    "len(train_dataCentradoMediaNormalizadoDesviacionEstandar)"
   ]
  },
  {
   "cell_type": "code",
   "execution_count": 42,
   "metadata": {},
   "outputs": [
    {
     "data": {
      "text/plain": [
       "101"
      ]
     },
     "execution_count": 42,
     "metadata": {},
     "output_type": "execute_result"
    }
   ],
   "source": [
    "num_val_samples"
   ]
  },
  {
   "cell_type": "code",
   "execution_count": 44,
   "metadata": {},
   "outputs": [
    {
     "name": "stdout",
     "output_type": "stream",
     "text": [
      " \n",
      "procesando partición  (k-fold) k =  0\n",
      "Forma (shape) del val_data  (101, 13)\n",
      "Forma (shape) del val_targets  (101, 13)\n",
      "construyendo  partial_train_data particion (k-fold) k =  0\n",
      "Forma (shape) del partial_train_data  (303, 13)\n",
      "construyendo  partial_train_targets partición (k-fold) k =  0\n",
      "Forma (shape) del partial_train_targets  (303,)\n",
      "Construccion del modelo Keras de la partición  (k-fold) k =  0\n",
      "Entrenando fit el modelo de la particion (k-fold) k =  0\n",
      "Llaves history del modelo de la partición (k-fold) k =  0\n",
      "dict_keys(['val_loss', 'val_mean_absolute_error', 'loss', 'mean_absolute_error'])\n",
      "Fin modelo partición (k-fold) k =  0\n",
      " \n",
      "procesando partición  (k-fold) k =  1\n",
      "Forma (shape) del val_data  (101, 13)\n",
      "Forma (shape) del val_targets  (101, 13)\n",
      "construyendo  partial_train_data particion (k-fold) k =  1\n",
      "Forma (shape) del partial_train_data  (303, 13)\n",
      "construyendo  partial_train_targets partición (k-fold) k =  1\n",
      "Forma (shape) del partial_train_targets  (303,)\n",
      "Construccion del modelo Keras de la partición  (k-fold) k =  1\n",
      "Entrenando fit el modelo de la particion (k-fold) k =  1\n",
      "Llaves history del modelo de la partición (k-fold) k =  1\n",
      "dict_keys(['val_loss', 'val_mean_absolute_error', 'loss', 'mean_absolute_error'])\n",
      "Fin modelo partición (k-fold) k =  1\n",
      " \n",
      "procesando partición  (k-fold) k =  2\n",
      "Forma (shape) del val_data  (101, 13)\n",
      "Forma (shape) del val_targets  (101, 13)\n",
      "construyendo  partial_train_data particion (k-fold) k =  2\n",
      "Forma (shape) del partial_train_data  (303, 13)\n",
      "construyendo  partial_train_targets partición (k-fold) k =  2\n",
      "Forma (shape) del partial_train_targets  (303,)\n",
      "Construccion del modelo Keras de la partición  (k-fold) k =  2\n",
      "Entrenando fit el modelo de la particion (k-fold) k =  2\n",
      "Llaves history del modelo de la partición (k-fold) k =  2\n",
      "dict_keys(['val_loss', 'val_mean_absolute_error', 'loss', 'mean_absolute_error'])\n",
      "Fin modelo partición (k-fold) k =  2\n",
      " \n",
      "procesando partición  (k-fold) k =  3\n",
      "Forma (shape) del val_data  (101, 13)\n",
      "Forma (shape) del val_targets  (101, 13)\n",
      "construyendo  partial_train_data particion (k-fold) k =  3\n",
      "Forma (shape) del partial_train_data  (303, 13)\n",
      "construyendo  partial_train_targets partición (k-fold) k =  3\n",
      "Forma (shape) del partial_train_targets  (303,)\n",
      "Construccion del modelo Keras de la partición  (k-fold) k =  3\n",
      "Entrenando fit el modelo de la particion (k-fold) k =  3\n",
      "Llaves history del modelo de la partición (k-fold) k =  3\n",
      "dict_keys(['val_loss', 'val_mean_absolute_error', 'loss', 'mean_absolute_error'])\n",
      "Fin modelo partición (k-fold) k =  3\n"
     ]
    }
   ],
   "source": [
    "num_epochs = 25\n",
    "all_scores = []\n",
    "for i in range(k):\n",
    "    print(' ')\n",
    "    print('procesando partición  (k-fold) k = ', i)\n",
    "    # Prepare the validation data: data from partition # k\n",
    "    val_data = train_dataCentradoMediaNormalizadoDesviacionEstandar[i * num_val_samples: (i + 1) * num_val_samples]\n",
    "    val_targets = train_targets[i * num_val_samples: (i + 1) * num_val_samples]\n",
    "    \n",
    "    val_data_forma = val_data.shape\n",
    "    print('Forma (shape) del val_data ', val_data_forma)\n",
    "    \n",
    "    val_targets_forma = val_data.shape\n",
    "    print('Forma (shape) del val_targets ', val_targets_forma)\n",
    "\n",
    "    # Prepare the training data: data from all other partitions\n",
    "    print('construyendo  partial_train_data particion (k-fold) k = ', i)\n",
    "    partial_train_data = np.concatenate(\n",
    "        [train_dataCentradoMediaNormalizadoDesviacionEstandar[:i * num_val_samples],\n",
    "         train_dataCentradoMediaNormalizadoDesviacionEstandar[(i + 1) * num_val_samples:]],\n",
    "        axis=0)\n",
    "    \n",
    "    partial_train_data_forma = partial_train_data.shape\n",
    "    print('Forma (shape) del partial_train_data ', partial_train_data_forma)\n",
    "   \n",
    "    \n",
    "    \n",
    "    print('construyendo  partial_train_targets partición (k-fold) k = ', i)\n",
    "    partial_train_targets = np.concatenate(\n",
    "        [train_targets[:i * num_val_samples],\n",
    "         train_targets[(i + 1) * num_val_samples:]],\n",
    "        axis=0)\n",
    "\n",
    "    partial_train_targets_forma = partial_train_targets.shape\n",
    "    print('Forma (shape) del partial_train_targets ', partial_train_targets_forma)\n",
    "   \n",
    "    \n",
    "    # Construccion del modelo con Keras  (already compiled)\n",
    "    print('Construccion del modelo Keras de la partición  (k-fold) k = ', i)\n",
    "    model = build_model()\n",
    "    # Train the model (in silent mode, verbose=0)\n",
    "    print('Entrenando fit el modelo de la particion (k-fold) k = ', i)\n",
    "    historia100 = model.fit(partial_train_data, partial_train_targets, validation_data=(val_data, val_targets),\n",
    "              epochs=num_epochs, batch_size=1, verbose=0)\n",
    "    # Evaluate the model on the validation data\n",
    "    print('Llaves history del modelo de la partición (k-fold) k = ', i)\n",
    "    print(historia100.history.keys())\n",
    "    \n",
    "    val_mae = historia100.history['val_mean_absolute_error']\n",
    "    all_scores.append(val_mae)\n",
    "    \n",
    "\n",
    "    print('Fin modelo partición (k-fold) k = ', i)"
   ]
  },
  {
   "cell_type": "code",
   "execution_count": 48,
   "metadata": {},
   "outputs": [
    {
     "data": {
      "text/plain": [
       "4"
      ]
     },
     "execution_count": 48,
     "metadata": {},
     "output_type": "execute_result"
    }
   ],
   "source": [
    "len(all_scores)"
   ]
  },
  {
   "cell_type": "code",
   "execution_count": 52,
   "metadata": {},
   "outputs": [
    {
     "data": {
      "text/plain": [
       "25"
      ]
     },
     "execution_count": 52,
     "metadata": {},
     "output_type": "execute_result"
    }
   ],
   "source": [
    "len(all_scores[0])"
   ]
  },
  {
   "cell_type": "code",
   "execution_count": 53,
   "metadata": {},
   "outputs": [
    {
     "data": {
      "text/plain": [
       "[4.086179922122766,\n",
       " 3.0152902131033414,\n",
       " 2.9820251842536547,\n",
       " 2.5420896983382724,\n",
       " 2.448185033137255,\n",
       " 2.462728226538932,\n",
       " 2.2883730406808382,\n",
       " 2.0762589804016716,\n",
       " 2.290176353832283,\n",
       " 2.5326382759774084,\n",
       " 1.9830983794561707,\n",
       " 2.365296750965685,\n",
       " 2.186893685029285,\n",
       " 2.3952969843798346,\n",
       " 2.5737504392567248,\n",
       " 2.025221097587359,\n",
       " 2.508830684246403,\n",
       " 1.959319794532096,\n",
       " 2.2789272837119525,\n",
       " 2.2288318482956084,\n",
       " 2.1926814258688747,\n",
       " 1.957686169312732,\n",
       " 2.1637579851811477,\n",
       " 1.9714486622574305,\n",
       " 1.989423109753297]"
      ]
     },
     "execution_count": 53,
     "metadata": {},
     "output_type": "execute_result"
    }
   ],
   "source": [
    "all_scores[0]"
   ]
  },
  {
   "cell_type": "markdown",
   "metadata": {},
   "source": [
    "\n"
   ]
  },
  {
   "cell_type": "code",
   "execution_count": 54,
   "metadata": {},
   "outputs": [
    {
     "data": {
      "text/plain": [
       "2.683033071248838"
      ]
     },
     "execution_count": 54,
     "metadata": {},
     "output_type": "execute_result"
    }
   ],
   "source": [
    "PromedioMAE_K_FOLD_VALIDATION = np.mean(all_scores)\n",
    "PromedioMAE_K_FOLD_VALIDATION"
   ]
  },
  {
   "cell_type": "markdown",
   "metadata": {},
   "source": [
    "Como puede observar, las diferentes ejecuciones sí muestran puntuaciones de validación bastante diferentes, de 2.0 a 2.9. Sin embargo, su promedio es una métrica mucho más confiable que cualquiera de estos puntajes: ese es el punto completo de la validación cruzada de K-fold. En este caso, estamos fuera de 2.400 dolares en promedio, lo que sigue siendo significativo si se considera que os precios varían de 10.000 a 50.000 dolares.\n",
    "\n",
    "Intentemos entrenar la red un poco más, con más épocas. Para mantener un registro de qué tan bien se desempeñó el modelo en cada época, modificaremos nuestro ciclo de entrenamiento para guardar el registro de puntuación de validación por época:"
   ]
  },
  {
   "cell_type": "markdown",
   "metadata": {},
   "source": [
    "Usando el backend de Keras para escribir nuevo código.\n",
    "\n",
    "Si desea que los módulos de Keras que escriba sean compatibles con Theano (th) y TensorFlow (tf), debe escribirlos a través del API de backend de Keras. Aquí hay una introducción.\n",
    "\n",
    "Puede importar el módulo backend a través de:"
   ]
  },
  {
   "cell_type": "code",
   "execution_count": 55,
   "metadata": {},
   "outputs": [],
   "source": [
    "from keras import backend as K"
   ]
  },
  {
   "cell_type": "markdown",
   "metadata": {},
   "source": [
    "clear_session\n",
    "\n",
    "keras.backend.clear_session ()\n",
    "\n",
    "Destruye el gráfico TF actual y crea uno nuevo.\n",
    "\n",
    "Útil para evitar el desorden de los viejos modelos / capas.\n"
   ]
  },
  {
   "cell_type": "code",
   "execution_count": 56,
   "metadata": {},
   "outputs": [],
   "source": [
    "# Some memory clean-up\n",
    "K.clear_session()"
   ]
  },
  {
   "cell_type": "markdown",
   "metadata": {},
   "source": [
    "# Acceso a la historia de entrenamiento modelo en Keras\n",
    "\n",
    "Keras proporciona la capacidad de registrar devoluciones de llamada cuando se entrena un modelo de aprendizaje profundo.\n",
    "\n",
    "Una de las devoluciones de llamada predeterminadas que se registra cuando se entrena a todos los modelos de aprendizaje profundo es la devolución de llamada del historial.\n",
    "\n",
    "Registra métricas de entrenamiento para cada época.\n",
    "\n",
    "Esto incluye la pérdida y la precisión (para problemas de clasificación), así como la pérdida y la precisión para el conjunto de datos de validación, si se establece uno.\n",
    "\n",
    "El objeto histórico se devuelve de las llamadas a la función fit() utilizada para entrenar el modelo.\n",
    "\n",
    "Las métricas se almacenan en un diccionario en el miembro histórico del objeto devuelto.\n",
    "\n",
    "\n",
    "\n",
    "keras.callbacks.History ()\n",
    "\n",
    "Devolución de llamada que registra eventos en un objeto Historial.\n",
    "\n",
    "Esta devolución de llamada se aplica automáticamente a todos los modelos de Keras.\n",
    "\n",
    "El objeto Historial se devuelve por el método de ajuste de modelos.\n",
    "\n",
    "\n",
    "Por ejemplo, puede enumerar las métricas recopiladas en un objeto de historial utilizando el siguiente fragmento de código después de que se entrena un modelo:\n",
    "\n",
    "\t\n",
    "# Listar los datos historicos\n",
    "print(history.history.keys())\n",
    "\n",
    "Por ejemplo, para un modelo entrenado en un problema de clasificación con un conjunto de datos de validación, esto podría producir el siguiente listado:\n",
    "\n",
    "['acc', 'loss', 'val_acc', 'val_loss']\n",
    "\n",
    "Podemos usar los datos recopilados en el objeto histórico para crear gráficos.\n",
    "\n",
    "Los gráficos pueden proporcionar una indicación de cosas útiles sobre la capacitación del modelo, tales como:\n",
    "\n",
    "    \n",
    "    Es la velocidad de convergencia en épocas (pendiente).\n",
    "    \n",
    "    Si el modelo ya puede haber convergido (meseta de la línea).\n",
    "    \n",
    "    Si el modelo puede estar sobre-aprendiendo los datos de entrenamiento (inflexión para la línea de validación).\n",
    "    \n",
    "    \n",
    "Puede aprender mucho sobre redes neuronales y modelos de aprendizaje profundo observando su desempeño a lo largo del tiempo durante el entrenamiento.\n"
   ]
  },
  {
   "cell_type": "code",
   "execution_count": 62,
   "metadata": {},
   "outputs": [
    {
     "name": "stdout",
     "output_type": "stream",
     "text": [
      "num val samples 101\n",
      " \n",
      "procesando fold # 0\n",
      "inicio train  0\n",
      "fin train  101\n",
      "Construccion del modelo de fold 0\n",
      "Llaves history del modelo  fold 0\n",
      "dict_keys(['val_loss', 'val_mean_absolute_error', 'loss', 'mean_absolute_error'])\n",
      " \n",
      "procesando fold # 1\n",
      "inicio train  101\n",
      "fin train  202\n",
      "Construccion del modelo de fold 1\n",
      "Llaves history del modelo  fold 1\n",
      "dict_keys(['val_loss', 'val_mean_absolute_error', 'loss', 'mean_absolute_error'])\n",
      " \n",
      "procesando fold # 2\n",
      "inicio train  202\n",
      "fin train  303\n",
      "Construccion del modelo de fold 2\n",
      "Llaves history del modelo  fold 2\n",
      "dict_keys(['val_loss', 'val_mean_absolute_error', 'loss', 'mean_absolute_error'])\n",
      " \n",
      "procesando fold # 3\n",
      "inicio train  303\n",
      "fin train  404\n",
      "Construccion del modelo de fold 3\n",
      "Llaves history del modelo  fold 3\n",
      "dict_keys(['val_loss', 'val_mean_absolute_error', 'loss', 'mean_absolute_error'])\n"
     ]
    }
   ],
   "source": [
    "k = 4\n",
    "num_val_samples = len(train_dataCentradoMediaNormalizadoDesviacionEstandar) // k\n",
    "print('num val samples', num_val_samples)\n",
    "num_epochs = 50\n",
    "all_mae_histories = []\n",
    "for i in range(k):\n",
    "    print(' ')\n",
    "    print('procesando fold #', i)\n",
    "    # Prepare the validation data: data from partition # k\n",
    "    inicio_train = i * num_val_samples\n",
    "    print('inicio train ', inicio_train)\n",
    "    fin_train = (i + 1) * num_val_samples\n",
    "    print('fin train ', fin_train)\n",
    "    val_data = train_dataCentradoMediaNormalizadoDesviacionEstandar[i * num_val_samples: (i + 1) * num_val_samples]\n",
    "    val_targets = train_targets[i * num_val_samples: (i + 1) * num_val_samples]\n",
    "\n",
    "    # Prepare the training data: data from all other partitions\n",
    "    partial_train_data = np.concatenate(\n",
    "        [train_dataCentradoMediaNormalizadoDesviacionEstandar[:i * num_val_samples],\n",
    "         train_dataCentradoMediaNormalizadoDesviacionEstandar[(i + 1) * num_val_samples:]],\n",
    "        axis=0)\n",
    "    partial_train_targets = np.concatenate(\n",
    "        [train_targets[:i * num_val_samples],\n",
    "         train_targets[(i + 1) * num_val_samples:]],\n",
    "        axis=0)\n",
    "\n",
    "    # Build the Keras model (already compiled)\n",
    "    print('Construccion del modelo de fold', i)\n",
    "    model = build_model()\n",
    "    # Train the model (in silent mode, verbose=0)\n",
    "    history = model.fit(partial_train_data, partial_train_targets,\n",
    "                        validation_data=(val_data, val_targets),\n",
    "                        epochs=num_epochs, batch_size=1, verbose=0)\n",
    "    print('Llaves history del modelo  fold', i)\n",
    "    print(history.history.keys())\n",
    "    mae_history = history.history['val_mean_absolute_error']\n",
    "    all_mae_histories.append(mae_history)"
   ]
  },
  {
   "cell_type": "markdown",
   "metadata": {},
   "source": [
    "Luego podemos calcular el promedio de las puntuaciones MAE por época:"
   ]
  },
  {
   "cell_type": "code",
   "execution_count": 63,
   "metadata": {},
   "outputs": [],
   "source": [
    "average_mae_history = [\n",
    "    np.mean([x[i] for x in all_mae_histories]) for i in range(num_epochs)]"
   ]
  },
  {
   "cell_type": "code",
   "execution_count": 64,
   "metadata": {},
   "outputs": [
    {
     "data": {
      "text/plain": [
       "[4.181876992235089,\n",
       " 3.208520504507688,\n",
       " 3.0475226310220096,\n",
       " 2.9913864230165386,\n",
       " 2.7121169213021155,\n",
       " 2.7716538138908913,\n",
       " 2.644772484751031,\n",
       " 2.579562712423872,\n",
       " 2.607160267263356,\n",
       " 2.5494620198070415,\n",
       " 2.5653579093442103,\n",
       " 2.633371362591734,\n",
       " 2.5784485942066304,\n",
       " 2.3775926167422,\n",
       " 2.4173102272619116,\n",
       " 2.4338266318387323,\n",
       " 2.373731783120939,\n",
       " 2.4622976856656593,\n",
       " 2.43006427925412,\n",
       " 2.567012031479637,\n",
       " 2.40213012046153,\n",
       " 2.4216556726115765,\n",
       " 2.409531796332633,\n",
       " 2.562809097884905,\n",
       " 2.3734118194863347,\n",
       " 2.554314298204856,\n",
       " 2.402770645547621,\n",
       " 2.4137075832574677,\n",
       " 2.57837706509203,\n",
       " 2.4316330044576437,\n",
       " 2.3681443068060544,\n",
       " 2.3276885464639947,\n",
       " 2.4350600431461147,\n",
       " 2.318875259692126,\n",
       " 2.350020455841971,\n",
       " 2.3493287480703677,\n",
       " 2.3928722532668916,\n",
       " 2.3283621721928665,\n",
       " 2.324513671421769,\n",
       " 2.496203799058895,\n",
       " 2.2840071172997503,\n",
       " 2.21836777252726,\n",
       " 2.3411052911588457,\n",
       " 2.281672729123937,\n",
       " 2.3705149074592216,\n",
       " 2.2869226377789333,\n",
       " 2.4006598302633453,\n",
       " 2.3453114410438163,\n",
       " 2.2758974403438,\n",
       " 2.2288913077647146]"
      ]
     },
     "execution_count": 64,
     "metadata": {},
     "output_type": "execute_result"
    }
   ],
   "source": [
    "average_mae_history"
   ]
  },
  {
   "cell_type": "markdown",
   "metadata": {},
   "source": [
    "Grafica de resultados"
   ]
  },
  {
   "cell_type": "code",
   "execution_count": 65,
   "metadata": {},
   "outputs": [
    {
     "data": {
      "image/png": "[encoded data removed]",
      "text/plain": [
       "<Figure size 432x288 with 1 Axes>"
      ]
     },
     "metadata": {
      "needs_background": "light"
     },
     "output_type": "display_data"
    }
   ],
   "source": [
    "import matplotlib.pyplot as plt\n",
    "\n",
    "plt.plot(range(1, len(average_mae_history) + 1), average_mae_history)\n",
    "plt.xlabel('Epochs')\n",
    "plt.ylabel('Validation MAE')\n",
    "plt.show()"
   ]
  },
  {
   "cell_type": "markdown",
   "metadata": {},
   "source": [
    "print(history.history.keys())\n",
    "# summarize history for accuracy\n",
    "plt.plot(history.history['acc'])\n",
    "plt.plot(history.history['val_acc'])\n",
    "plt.title('model accuracy')\n",
    "plt.ylabel('accuracy')\n",
    "plt.xlabel('epoch')\n",
    "plt.legend(['train', 'test'], loc='upper left')\n",
    "plt.show()"
   ]
  },
  {
   "cell_type": "markdown",
   "metadata": {},
   "source": [
    "Puede ser un poco difícil ver el gráfico debido a problemas de escala y una variación relativamente alta. \n",
    "Vamos a:\n",
    "\n",
    "* Omitir los primeros 10 puntos de datos, que están en una escala diferente del resto de la curva.\n",
    "* Reemplazar cada punto con un promedio móvil exponencial de los puntos anteriores, para obtener una curva suave."
   ]
  },
  {
   "cell_type": "code",
   "execution_count": 66,
   "metadata": {},
   "outputs": [
    {
     "data": {
      "image/png": "[encoded data removed]",
      "text/plain": [
       "<Figure size 432x288 with 1 Axes>"
      ]
     },
     "metadata": {
      "needs_background": "light"
     },
     "output_type": "display_data"
    }
   ],
   "source": [
    "def smooth_curve(points, factor=0.9):\n",
    "  smoothed_points = []\n",
    "  for point in points: \n",
    "        #Esto nos sugiere segun las mejores practicas utilizar un metodo de pruebas y \n",
    "        #evaluacion conocido como Validacion cruzada con k elementos \n",
    "        ##(\"K-fold cross-validation\").\n",
    "    if smoothed_points:\n",
    "      previous = smoothed_points[-1]\n",
    "      smoothed_points.append(previous * factor + point * (1 - factor))\n",
    "    else:\n",
    "      smoothed_points.append(point)\n",
    "  return smoothed_points\n",
    "\n",
    "smooth_mae_history = smooth_curve(average_mae_history[10:])\n",
    "\n",
    "plt.plot(range(1, len(smooth_mae_history) + 1), smooth_mae_history)\n",
    "plt.xlabel('Epochs')\n",
    "plt.ylabel('Validation MAE')\n",
    "plt.xlim(0, 80)\n",
    "\n",
    "plt.show()"
   ]
  },
  {
   "cell_type": "markdown",
   "metadata": {},
   "source": [
    "Según este gráfico, parece que la validación MAE deja de mejorar significativamente después de 80 épocas. Más allá de ese punto, comenzamos a sobreajustar.\n",
    "\n",
    "Una vez que hayamos terminado de ajustar otros parámetros de nuestro modelo (además del número de épocas, también podríamos ajustar el tamaño de las capas ocultas),\n",
    "puede entrenar un modelo de \"producción\" final en todos los datos de entrenamiento, con los mejores parámetros, y luego observar su desempeño en los datos de prueba:\n"
   ]
  },
  {
   "cell_type": "markdown",
   "metadata": {},
   "source": [
    "### Generación modelo con todos los registros del Conjunto de Datos"
   ]
  },
  {
   "cell_type": "code",
   "execution_count": 67,
   "metadata": {},
   "outputs": [
    {
     "name": "stdout",
     "output_type": "stream",
     "text": [
      "dict_keys(['val_loss', 'val_mean_absolute_error', 'loss', 'mean_absolute_error'])\n"
     ]
    }
   ],
   "source": [
    "# Get a fresh, compiled model.\n",
    "modeloConTodosDatos = build_model()\n",
    "\n",
    "\n",
    "\n",
    "\n",
    "all_mae_historiesConTodosDatos = []\n",
    "\n",
    "EpocasConTodosDatos = 25\n",
    "\n",
    "# Train it on the entirety of the data.\n",
    "historiaConTodosDatos = modeloConTodosDatos.fit(train_dataCentradoMediaNormalizadoDesviacionEstandar, train_targets, validation_data=(evaluation_dataCentradoMediaNormalizadoDesviacionEstandar, evaluation_targets),\n",
    "          epochs=EpocasConTodosDatos, batch_size=16, verbose=0)\n",
    "###test_mse_score, test_mae_score = model.evaluate(evaluation_dataCentradoMediaNormalizadoDesviacionEstandar, evaluation_targets)\n",
    "\n",
    "print(historiaConTodosDatos.history.keys())\n",
    "\n",
    "val_maeConTodosDatos = historiaConTodosDatos.history['val_mean_absolute_error']\n",
    "    \n",
    "all_mae_historiesConTodosDatos.append(val_maeConTodosDatos)"
   ]
  },
  {
   "cell_type": "code",
   "execution_count": 68,
   "metadata": {},
   "outputs": [
    {
     "data": {
      "text/plain": [
       "[19.244684294158336,\n",
       " 14.128729726753983,\n",
       " 8.691146383098527,\n",
       " 5.31276548610014,\n",
       " 4.584290008918912,\n",
       " 4.305041397319121,\n",
       " 3.96158888760735,\n",
       " 3.8130804230185116,\n",
       " 3.790125482222613,\n",
       " 3.5620634789560355,\n",
       " 3.518231560202206,\n",
       " 3.5365774210761574,\n",
       " 3.396416710872276,\n",
       " 3.4489667275372673,\n",
       " 3.242466543235031,\n",
       " 3.1846607339148427,\n",
       " 3.1975504463794184,\n",
       " 3.2060722276276232,\n",
       " 3.1508709496142817,\n",
       " 3.028990801642923,\n",
       " 3.09052999346864,\n",
       " 2.948238868339389,\n",
       " 3.1611010514053643,\n",
       " 2.964794486176734,\n",
       " 3.138196861042696]"
      ]
     },
     "execution_count": 68,
     "metadata": {},
     "output_type": "execute_result"
    }
   ],
   "source": [
    "val_maeConTodosDatos"
   ]
  },
  {
   "cell_type": "code",
   "execution_count": 69,
   "metadata": {},
   "outputs": [],
   "source": [
    "average_mae_history_ConTodosDatos = [\n",
    "    np.mean([x[i] for x in all_mae_historiesConTodosDatos]) for i in range(EpocasConTodosDatos)]"
   ]
  },
  {
   "cell_type": "code",
   "execution_count": 70,
   "metadata": {},
   "outputs": [
    {
     "data": {
      "text/plain": [
       "[19.244684294158336,\n",
       " 14.128729726753983,\n",
       " 8.691146383098527,\n",
       " 5.31276548610014,\n",
       " 4.584290008918912,\n",
       " 4.305041397319121,\n",
       " 3.96158888760735,\n",
       " 3.8130804230185116,\n",
       " 3.790125482222613,\n",
       " 3.5620634789560355,\n",
       " 3.518231560202206,\n",
       " 3.5365774210761574,\n",
       " 3.396416710872276,\n",
       " 3.4489667275372673,\n",
       " 3.242466543235031,\n",
       " 3.1846607339148427,\n",
       " 3.1975504463794184,\n",
       " 3.2060722276276232,\n",
       " 3.1508709496142817,\n",
       " 3.028990801642923,\n",
       " 3.09052999346864,\n",
       " 2.948238868339389,\n",
       " 3.1611010514053643,\n",
       " 2.964794486176734,\n",
       " 3.138196861042696]"
      ]
     },
     "execution_count": 70,
     "metadata": {},
     "output_type": "execute_result"
    }
   ],
   "source": [
    "average_mae_history_ConTodosDatos"
   ]
  },
  {
   "cell_type": "code",
   "execution_count": 71,
   "metadata": {},
   "outputs": [
    {
     "data": {
      "image/png": "[encoded data removed]",
      "text/plain": [
       "<Figure size 432x288 with 1 Axes>"
      ]
     },
     "metadata": {
      "needs_background": "light"
     },
     "output_type": "display_data"
    }
   ],
   "source": [
    "plt.plot(range(1, len(average_mae_history_ConTodosDatos) + 1), average_mae_history_ConTodosDatos)\n",
    "plt.xlabel('Epochs')\n",
    "plt.ylabel('Validation MAE')\n",
    "plt.show()"
   ]
  },
  {
   "cell_type": "code",
   "execution_count": 72,
   "metadata": {},
   "outputs": [
    {
     "data": {
      "text/plain": [
       "4.784287238027535"
      ]
     },
     "execution_count": 72,
     "metadata": {},
     "output_type": "execute_result"
    }
   ],
   "source": [
    "PromedioMAE_ConTodosDatos = np.mean(val_maeConTodosDatos)\n",
    "PromedioMAE_ConTodosDatos"
   ]
  },
  {
   "cell_type": "code",
   "execution_count": 73,
   "metadata": {},
   "outputs": [
    {
     "data": {
      "text/plain": [
       "2.683033071248838"
      ]
     },
     "execution_count": 73,
     "metadata": {},
     "output_type": "execute_result"
    }
   ],
   "source": [
    "PromedioMAE_K_FOLD_VALIDATION"
   ]
  },
  {
   "cell_type": "markdown",
   "metadata": {},
   "source": [
    "Keras es una biblioteca de Python simple y poderosa para el aprendizaje profundo.\n",
    "\n",
    "Dado que los modelos de aprendizaje profundo pueden tomar horas, días e incluso semanas para entrenarse, es importante saber cómo guardarlos y cargarlos desde el disco.\n",
    "\n",
    "Keras separa las preocupaciones de guardar la arquitectura de su modelo y guardar los pesos de su modelo.\n",
    "\n",
    "Los pesos de los modelos se guardan en formato HDF5. Este es un formato de cuadrícula que es ideal para almacenar matrices de números multidimensionales.\n",
    "\n",
    "La estructura del modelo se puede describir y guardar utilizando dos formatos diferentes: JSON y YAML.\n",
    "JSON es un formato de archivo simple para describir datos jerárquicamente.\n",
    "\n",
    "Keras proporciona la capacidad de describir cualquier modelo utilizando el formato JSON con una función to_json (). Esto se puede guardar en un archivo y luego cargarse a través de la función model_from_json () que creará un nuevo modelo a partir de la especificación JSON.\n",
    "\n",
    "Los pesos se guardan directamente del modelo usando la función save_weights () y luego se cargan usando la función simétrica load_weights ().\n"
   ]
  },
  {
   "cell_type": "code",
   "execution_count": 74,
   "metadata": {},
   "outputs": [
    {
     "data": {
      "text/plain": [
       "'{\"class_name\": \"Sequential\", \"config\": {\"name\": \"sequential_9\", \"layers\": [{\"class_name\": \"Dense\", \"config\": {\"name\": \"dense_25\", \"trainable\": true, \"batch_input_shape\": [null, 13], \"dtype\": \"float32\", \"units\": 64, \"activation\": \"relu\", \"use_bias\": true, \"kernel_initializer\": {\"class_name\": \"VarianceScaling\", \"config\": {\"scale\": 1.0, \"mode\": \"fan_avg\", \"distribution\": \"uniform\", \"seed\": null}}, \"bias_initializer\": {\"class_name\": \"Zeros\", \"config\": {}}, \"kernel_regularizer\": null, \"bias_regularizer\": null, \"activity_regularizer\": null, \"kernel_constraint\": null, \"bias_constraint\": null}}, {\"class_name\": \"Dense\", \"config\": {\"name\": \"dense_26\", \"trainable\": true, \"dtype\": \"float32\", \"units\": 64, \"activation\": \"relu\", \"use_bias\": true, \"kernel_initializer\": {\"class_name\": \"VarianceScaling\", \"config\": {\"scale\": 1.0, \"mode\": \"fan_avg\", \"distribution\": \"uniform\", \"seed\": null}}, \"bias_initializer\": {\"class_name\": \"Zeros\", \"config\": {}}, \"kernel_regularizer\": null, \"bias_regularizer\": null, \"activity_regularizer\": null, \"kernel_constraint\": null, \"bias_constraint\": null}}, {\"class_name\": \"Dense\", \"config\": {\"name\": \"dense_27\", \"trainable\": true, \"dtype\": \"float32\", \"units\": 1, \"activation\": \"linear\", \"use_bias\": true, \"kernel_initializer\": {\"class_name\": \"VarianceScaling\", \"config\": {\"scale\": 1.0, \"mode\": \"fan_avg\", \"distribution\": \"uniform\", \"seed\": null}}, \"bias_initializer\": {\"class_name\": \"Zeros\", \"config\": {}}, \"kernel_regularizer\": null, \"bias_regularizer\": null, \"activity_regularizer\": null, \"kernel_constraint\": null, \"bias_constraint\": null}}]}, \"keras_version\": \"2.2.5\", \"backend\": \"tensorflow\"}'"
      ]
     },
     "execution_count": 74,
     "metadata": {},
     "output_type": "execute_result"
    }
   ],
   "source": [
    "json_string = modeloConTodosDatos.to_json()\n",
    "\n",
    "json_string"
   ]
  },
  {
   "cell_type": "code",
   "execution_count": 75,
   "metadata": {},
   "outputs": [
    {
     "data": {
      "text/plain": [
       "datetime.datetime(2019, 11, 27, 18, 55, 9, 101608)"
      ]
     },
     "execution_count": 75,
     "metadata": {},
     "output_type": "execute_result"
    }
   ],
   "source": [
    "from datetime import datetime\n",
    "# current date and time\n",
    "now = datetime.now()\n",
    "now"
   ]
  },
  {
   "cell_type": "code",
   "execution_count": 76,
   "metadata": {},
   "outputs": [
    {
     "data": {
      "text/plain": [
       "'20191127185509'"
      ]
     },
     "execution_count": 76,
     "metadata": {},
     "output_type": "execute_result"
    }
   ],
   "source": [
    "ahorita = now.strftime(\"%Y%m%d%H%M%S\")\n",
    "ahorita"
   ]
  },
  {
   "cell_type": "code",
   "execution_count": 77,
   "metadata": {},
   "outputs": [
    {
     "data": {
      "text/plain": [
       "'ggCapLibro3_6_MiPrimeraRedNeuronal_PrediccionNumerica_20191127185509.json'"
      ]
     },
     "execution_count": 77,
     "metadata": {},
     "output_type": "execute_result"
    }
   ],
   "source": [
    "MiArchivoJSON = 'ggCapLibro3_6_MiPrimeraRedNeuronal_PrediccionNumerica_' + ahorita + '.json'\n",
    "MiArchivoJSON"
   ]
  },
  {
   "cell_type": "code",
   "execution_count": 78,
   "metadata": {},
   "outputs": [
    {
     "data": {
      "text/plain": [
       "'ggCapLibro3_6_MiPrimeraRedNeuronal_PrediccionNumerica_20191127185509.h5'"
      ]
     },
     "execution_count": 78,
     "metadata": {},
     "output_type": "execute_result"
    }
   ],
   "source": [
    "MiArchivoPesosH5 = 'ggCapLibro3_6_MiPrimeraRedNeuronal_PrediccionNumerica_' + ahorita + '.h5'\n",
    "MiArchivoPesosH5"
   ]
  },
  {
   "cell_type": "code",
   "execution_count": 79,
   "metadata": {},
   "outputs": [
    {
     "name": "stdout",
     "output_type": "stream",
     "text": [
      "Almacenado del modelo JSON a disco \n",
      "total 636\r\n",
      "-rw--w--w- 1 saXsa saXsa 428196 nov  8 20:19 doc.html\r\n",
      "-rw-rw-r-- 1 saXsa saXsa 114000 nov 27 18:55 gg20191127_RedNeuronal_PrediccionNumerica_ValorCasas.ipynb\r\n",
      "-rw-rw-r-- 1 saXsa saXsa   1622 nov 27 18:55 ggCapLibro3_6_MiPrimeraRedNeuronal_PrediccionNumerica_20191127185509.json\r\n",
      "-rw-rw-rw- 6 saXsa saXsa  83606 nov  8 19:10 jquery.min.js\r\n",
      "-rw-rw-rw- 6 saXsa saXsa  15209 nov  8 19:09 require.min.js\r\n"
     ]
    }
   ],
   "source": [
    "with open(MiArchivoJSON, \"w\") as json_file:\n",
    "    json_file.write(json_string)\n",
    "\n",
    "print(\"Almacenado del modelo JSON a disco \")\n",
    "\n",
    "!ls -l "
   ]
  },
  {
   "cell_type": "markdown",
   "metadata": {},
   "source": []
  },
  {
   "cell_type": "markdown",
   "metadata": {},
   "source": [
    "## En resumen, de este ejemplo tenemos:\n",
    "\n",
    "* La regresión se realiza utilizando diferentes funciones de pérdida (loss functions) para llevar a cabo la clasificación; Mean Squared Error (MSE) es una función de pérdida comúnmente utilizada para regresión.\n",
    "* Del mismo modo, las métricas de evaluación que se utilizan para la regresión difieren de las utilizadas para la clasificación; naturalmente, el concepto de \"precisión\" no aplica para la regresión. Una métrica de regresión común es el Error Absoluto Medio (MAE Mean Absolute Error).\n",
    "* Cuando las características en los datos de entrada tienen valores en diferentes rangos, cada característica se debe normalizar de forma independiente como un paso de preproceso de los datos.\n",
    "* Cuando hay pocos datos disponibles, el uso de la validación K-Fold es una gran herramienta para evaluar un modelo de manera confiable (reliably evaluate a model).\n",
    "* Cuando hay pocos datos de entrenamiento disponibles, es preferible usar una red pequeña con muy pocas capas ocultas (generalmente solo una o dos), para evitar un sobreajuste severo (avoid severe overfitting).\n",
    "\n",
    "\n"
   ]
  },
  {
   "cell_type": "code",
   "execution_count": null,
   "metadata": {},
   "outputs": [],
   "source": []
  },
  {
   "cell_type": "code",
   "execution_count": null,
   "metadata": {},
   "outputs": [],
   "source": []
  }
 ],
 "metadata": {
  "kernelspec": {
   "display_name": "Python 3",
   "language": "python",
   "name": "python3"
  },
  "language_info": {
   "codemirror_mode": {
    "name": "ipython",
    "version": 3
   },
   "file_extension": ".py",
   "mimetype": "text/x-python",
   "name": "python",
   "nbconvert_exporter": "python",
   "pygments_lexer": "ipython3",
   "version": "3.7.4"
  }
 },
 "nbformat": 4,
 "nbformat_minor": 2
}
