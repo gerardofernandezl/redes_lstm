{
 "cells": [
  {
   "cell_type": "markdown",
   "metadata": {},
   "source": [
    "\n",
    "\n",
    "#### Título: Mis primeros pasos en Redes Neuronales (Neural Networks)\n",
    "#### Objetivo: Clasificación de números manuscritos MNIST\n",
    "\n",
    "##### Autor: Dr. Gabriel Guerrero\n",
    "##### Correo: saxsa2000@gmail.com\n",
    "##### FechaCreacion: 20191127\n",
    "##### Referencia: gg20191127_MiPrimeraRedNeuronal_ClasificacionDigitosManuscritos\n",
    "\n",
    "\n",
    "##### Introducción\n",
    "\n",
    "Este cuaderno (notebook de python) contiene el ejemplo, modificado y aumentado, del Capitulo 2, Sección 1 del libro Deep Learning with Python, del gran maestro y autor de Keras, F Chollet.\n",
    "\n",
    "El URL del libro: \n",
    "\n",
    "(https://www.manning.com/books/deep-learning-with-python?a_aid=keras&a_bid=76564dff). \n",
    "\n",
    "Se los recomiendo ampliamente. Este autor además de ser un gran innovador, su transmisión de conocimientos por medio de su libro, es una obra de arte para los que nos apasionan los temas alrededor de las aplicaciones de las Matemáticas y la Ciencia de Datos.\n",
    "\n",
    "En este ejemplo se muestra el uso de la biblioteca Keras con Python para clasificar números manuscritos (hand-written digits). Este es un ejercicio tradicional en Inteligencia Artificial y constituye el \"Hola Mundo\" (\"Hello World\"), como en todos los ambitos de la programación.\n",
    "\n",
    "\n",
    "\n"
   ]
  },
  {
   "cell_type": "markdown",
   "metadata": {},
   "source": [
    "Problema: <strong>Clasificar imágenes en escala de grises (grayscale images) de dígitos manuscritos (handwritten digits).</strong>\n",
    "\n",
    "Este es un algoritmo supervisado en donde se cuenta con una gran cantidad de ejemplos de números manuscritos que ya han sido clasificados. En base a este conocimiento, se realiza un modelo matemático de clasificación que nos permite, dado otra imagen de un número manuscrito determinar que número manuscrito representa esta imagen.\n",
    "\n",
    "Dado una imagen, se necesita clasificarla en alguna de las 10 categorías. Es decir, determinar ¿qué número representa la imagen  (numero 0 al numero 9)? \n"
   ]
  },
  {
   "cell_type": "markdown",
   "metadata": {},
   "source": [
    "\n",
    "Un digito se ofrece como una imagen de 28 pixels x 28 pixels en escala de grises (28x28 grayscale image).\n",
    "\n",
    "\n",
    "El conjunto de datos (dataset) es el conjunto Modificado del NIST (MNIST dataset) de dígitos manuscritos (MNIST database of handwritten digits).\n",
    "\n",
    "El conjunto MNIST es un conjunto de datos \"clásico\" del Aprendizaje Automatizado (Machine Learning). Este conjunto ha sido utilizado ampliamente en la enseñanza.\n",
    "\n",
    "El conjunto MNIST consta de 60,000 imágenes de entrenamiento (training images) y de 10,000 imágenes de evaluación (evaluation images).\n",
    "\n",
    "Por medio de las imágenes de entrenamiento, se genera el modelo matemático de la red neuronal y se obtienen los parámetros o pesos del modelo.\n",
    "\n",
    "Por medio de las imágenes de evaluación, se calcula el grado de certidumbre o precisión del modelo. Estos datos nos permiten calcular los valores que miden el rango de error y/o exactitud.\n",
    "\n",
    "El conjunto lo ofrece el NIST (National Institute of Standards and Technology) y se encuentra disponible desde los años 1980s. Este conjunto de datos es utilizado en todos los libros y cursos introductorios de Inteligencia Artificial y es el \"Hola Mundo\" en esta disciplina que todos los estudiantes deben conocer.\n",
    "\n",
    "El conjunto de datos MNIST, se encuentra pre-cargado en el sistema Keras.\n",
    "\n",
    "El conjunto de datos MNIST se ofrece como un conjunto de cuatro arreglos de números. \n",
    "\n",
    "Se cuenta con conjuntos de entrenamiento (\"training set\"), uno para imágenes de los números manuscritos y otro de las etiquetas asociadas a los números.\n",
    "\n",
    "Utilizando los conjuntos de entrenamiento se genera el modelo. \n",
    "\n",
    "De la misma forma se cuenta con conjuntos de evaluación (\"evaluation set\"), uno para imágenes y otro de etiquetas, a partir de los cuales se valida la certidumbre del modelo y obtiene un rango de certeza del mismo.\n",
    "\n",
    "En resumen:\n",
    "\n",
    "Se cuenta con un arreglo para las imágenes de entrenamiento: **train_images**\n",
    "\n",
    "Se cuenta con un arreglo para las etiquetas de las imágenes de entrenamiento: **train_labels**\n",
    "\n",
    "Se cuenta con un arreglo para las imágenes de evaluación: **evaluation_images**\n",
    "\n",
    "Se cuenta con un arreglo para las etiquetas de las imágenes de evaluación: **evaluation_labels**\n",
    "\n",
    "\n",
    "\n",
    "Para mostrar la imagenes incorporamos la biblioteca matplotlib indicando, por el parámetro **inline**, que los resultados los despliegue inmediatamente en el cuaderno jupyter\n",
    "\n"
   ]
  },
  {
   "cell_type": "code",
   "execution_count": 1,
   "metadata": {},
   "outputs": [],
   "source": [
    "import matplotlib.pyplot as plt\n",
    "### import numpy\n",
    "import numpy as np\n",
    "from sklearn.metrics import confusion_matrix\n",
    "import itertools\n",
    "from collections import Counter\n",
    "import seaborn as sns\n",
    "from subprocess import check_output\n",
    "\n",
    "%matplotlib inline"
   ]
  },
  {
   "cell_type": "code",
   "execution_count": 2,
   "metadata": {},
   "outputs": [
    {
     "name": "stderr",
     "output_type": "stream",
     "text": [
      "Using TensorFlow backend.\n",
      "/home/saXsa/anaconda3/envs/keras/lib/python3.7/site-packages/tensorflow/python/framework/dtypes.py:526: FutureWarning: Passing (type, 1) or '1type' as a synonym of type is deprecated; in a future version of numpy, it will be understood as (type, (1,)) / '(1,)type'.\n",
      "  _np_qint8 = np.dtype([(\"qint8\", np.int8, 1)])\n",
      "/home/saXsa/anaconda3/envs/keras/lib/python3.7/site-packages/tensorflow/python/framework/dtypes.py:527: FutureWarning: Passing (type, 1) or '1type' as a synonym of type is deprecated; in a future version of numpy, it will be understood as (type, (1,)) / '(1,)type'.\n",
      "  _np_quint8 = np.dtype([(\"quint8\", np.uint8, 1)])\n",
      "/home/saXsa/anaconda3/envs/keras/lib/python3.7/site-packages/tensorflow/python/framework/dtypes.py:528: FutureWarning: Passing (type, 1) or '1type' as a synonym of type is deprecated; in a future version of numpy, it will be understood as (type, (1,)) / '(1,)type'.\n",
      "  _np_qint16 = np.dtype([(\"qint16\", np.int16, 1)])\n",
      "/home/saXsa/anaconda3/envs/keras/lib/python3.7/site-packages/tensorflow/python/framework/dtypes.py:529: FutureWarning: Passing (type, 1) or '1type' as a synonym of type is deprecated; in a future version of numpy, it will be understood as (type, (1,)) / '(1,)type'.\n",
      "  _np_quint16 = np.dtype([(\"quint16\", np.uint16, 1)])\n",
      "/home/saXsa/anaconda3/envs/keras/lib/python3.7/site-packages/tensorflow/python/framework/dtypes.py:530: FutureWarning: Passing (type, 1) or '1type' as a synonym of type is deprecated; in a future version of numpy, it will be understood as (type, (1,)) / '(1,)type'.\n",
      "  _np_qint32 = np.dtype([(\"qint32\", np.int32, 1)])\n",
      "/home/saXsa/anaconda3/envs/keras/lib/python3.7/site-packages/tensorflow/python/framework/dtypes.py:535: FutureWarning: Passing (type, 1) or '1type' as a synonym of type is deprecated; in a future version of numpy, it will be understood as (type, (1,)) / '(1,)type'.\n",
      "  np_resource = np.dtype([(\"resource\", np.ubyte, 1)])\n"
     ]
    }
   ],
   "source": [
    "import keras"
   ]
  },
  {
   "cell_type": "code",
   "execution_count": 3,
   "metadata": {},
   "outputs": [
    {
     "data": {
      "text/plain": [
       "'2.2.5'"
      ]
     },
     "execution_count": 3,
     "metadata": {},
     "output_type": "execute_result"
    }
   ],
   "source": [
    "keras.__version__\n"
   ]
  },
  {
   "cell_type": "markdown",
   "metadata": {},
   "source": [
    "Se carga el conjunto de datos desde keras, utilizando la función load_data() de keras\n",
    "\n",
    "Se utiliza la biblioteca NumPy de Python para preparar los datos. La biblioteca NumPy es la herramienta básica para el cómputo científico en Python.\n",
    "\n",
    "La biblioteca NumPy ofrece un objeto de tipo arreglo de alto desempeño mutidimensional (high-performance multidimensional array object), y una gran variedad de herramientas para manejo de este tipo objetos."
   ]
  },
  {
   "cell_type": "code",
   "execution_count": 4,
   "metadata": {},
   "outputs": [],
   "source": [
    "from keras.datasets import mnist\n",
    "\n",
    "(train_images, train_labels), (evaluation_images, evaluation_labels) = mnist.load_data()"
   ]
  },
  {
   "cell_type": "markdown",
   "metadata": {},
   "source": [
    "Las imágenes se codifican como arreglos Numpy, y las etiquetas son un arreglo de dígitos en el rango 0 al 9.\n",
    "\n",
    "Para cada imagen se tiene una sola etiqueta. Se tiene una correspondencia uno a uno entre las imágenes y las etiquetas.\n"
   ]
  },
  {
   "cell_type": "code",
   "execution_count": 5,
   "metadata": {},
   "outputs": [
    {
     "data": {
      "text/plain": [
       "'uint8'"
      ]
     },
     "execution_count": 5,
     "metadata": {},
     "output_type": "execute_result"
    }
   ],
   "source": [
    "train_images.dtype.name"
   ]
  },
  {
   "cell_type": "code",
   "execution_count": 6,
   "metadata": {},
   "outputs": [
    {
     "data": {
      "text/plain": [
       "'uint8'"
      ]
     },
     "execution_count": 6,
     "metadata": {},
     "output_type": "execute_result"
    }
   ],
   "source": [
    "train_labels.dtype.name"
   ]
  },
  {
   "cell_type": "code",
   "execution_count": 7,
   "metadata": {},
   "outputs": [
    {
     "data": {
      "text/plain": [
       "'uint8'"
      ]
     },
     "execution_count": 7,
     "metadata": {},
     "output_type": "execute_result"
    }
   ],
   "source": [
    "evaluation_images.dtype.name"
   ]
  },
  {
   "cell_type": "code",
   "execution_count": 8,
   "metadata": {},
   "outputs": [
    {
     "data": {
      "text/plain": [
       "'uint8'"
      ]
     },
     "execution_count": 8,
     "metadata": {},
     "output_type": "execute_result"
    }
   ],
   "source": [
    "evaluation_labels.dtype.name"
   ]
  },
  {
   "cell_type": "markdown",
   "metadata": {},
   "source": [
    "**Análisis Exploratorio de Datos**\n",
    "\n",
    "Analicemos el contenido de los datos de entrenamiento y de evaluación \n",
    "\n",
    "Analicemos la forma del conjunto de datos de entrenamiento \n",
    "\n",
    "El conjunto de datos leido tiene una estructura de 60,000 elementos de 28 x 28\n",
    "\n",
    "Se crean en Python una estructura de 3 dimensiones. Tenemos una matriz de 28 x 28 para cada imagen y tenemos 60,000 imágenes.\n",
    "\n",
    "Para analizar la estructura del conjunto se utiliza la función shape\n",
    "\n",
    "\n",
    " numpy.ma.shape(obj)\n",
    "\n",
    "    Regresa la forma (shape) de un arreglo (Return the shape of an array).\n",
    "    \n",
    "    "
   ]
  },
  {
   "cell_type": "code",
   "execution_count": 9,
   "metadata": {},
   "outputs": [
    {
     "data": {
      "text/plain": [
       "(60000, 28, 28)"
      ]
     },
     "execution_count": 9,
     "metadata": {},
     "output_type": "execute_result"
    }
   ],
   "source": [
    "train_images.shape"
   ]
  },
  {
   "cell_type": "code",
   "execution_count": 10,
   "metadata": {},
   "outputs": [
    {
     "data": {
      "text/plain": [
       "60000"
      ]
     },
     "execution_count": 10,
     "metadata": {},
     "output_type": "execute_result"
    }
   ],
   "source": [
    "len(train_images)\n"
   ]
  },
  {
   "cell_type": "markdown",
   "metadata": {},
   "source": [
    "El resultado nos indica que tenemos 60,000 imágenes de tamaño 28x28\n",
    "\n",
    "Se muestra el primer elemento del conjunto de imagenes de entrenamiento. \n",
    "\n",
    "Este es una matriz de 28 x 28. \n",
    "\n",
    "Se indica en cada elemento de la matriz, la tonalidad de gris del pixel de la imagen, en una escala de 0 a 255."
   ]
  },
  {
   "cell_type": "code",
   "execution_count": 11,
   "metadata": {},
   "outputs": [
    {
     "data": {
      "text/plain": [
       "(28, 28)"
      ]
     },
     "execution_count": 11,
     "metadata": {},
     "output_type": "execute_result"
    }
   ],
   "source": [
    "train_images[0].shape"
   ]
  },
  {
   "cell_type": "code",
   "execution_count": 12,
   "metadata": {},
   "outputs": [
    {
     "data": {
      "text/plain": [
       "array([[  0,   0,   0,   0,   0,   0,   0,   0,   0,   0,   0,   0,   0,\n",
       "          0,   0,   0,   0,   0,   0,   0,   0,   0,   0,   0,   0,   0,\n",
       "          0,   0],\n",
       "       [  0,   0,   0,   0,   0,   0,   0,   0,   0,   0,   0,   0,   0,\n",
       "          0,   0,   0,   0,   0,   0,   0,   0,   0,   0,   0,   0,   0,\n",
       "          0,   0],\n",
       "       [  0,   0,   0,   0,   0,   0,   0,   0,   0,   0,   0,   0,   0,\n",
       "          0,   0,   0,   0,   0,   0,   0,   0,   0,   0,   0,   0,   0,\n",
       "          0,   0],\n",
       "       [  0,   0,   0,   0,   0,   0,   0,   0,   0,   0,   0,   0,   0,\n",
       "          0,   0,   0,   0,   0,   0,   0,   0,   0,   0,   0,   0,   0,\n",
       "          0,   0],\n",
       "       [  0,   0,   0,   0,   0,   0,   0,   0,   0,   0,   0,   0,   0,\n",
       "          0,   0,   0,   0,   0,   0,   0,   0,   0,   0,   0,   0,   0,\n",
       "          0,   0],\n",
       "       [  0,   0,   0,   0,   0,   0,   0,   0,   0,   0,   0,   0,   3,\n",
       "         18,  18,  18, 126, 136, 175,  26, 166, 255, 247, 127,   0,   0,\n",
       "          0,   0],\n",
       "       [  0,   0,   0,   0,   0,   0,   0,   0,  30,  36,  94, 154, 170,\n",
       "        253, 253, 253, 253, 253, 225, 172, 253, 242, 195,  64,   0,   0,\n",
       "          0,   0],\n",
       "       [  0,   0,   0,   0,   0,   0,   0,  49, 238, 253, 253, 253, 253,\n",
       "        253, 253, 253, 253, 251,  93,  82,  82,  56,  39,   0,   0,   0,\n",
       "          0,   0],\n",
       "       [  0,   0,   0,   0,   0,   0,   0,  18, 219, 253, 253, 253, 253,\n",
       "        253, 198, 182, 247, 241,   0,   0,   0,   0,   0,   0,   0,   0,\n",
       "          0,   0],\n",
       "       [  0,   0,   0,   0,   0,   0,   0,   0,  80, 156, 107, 253, 253,\n",
       "        205,  11,   0,  43, 154,   0,   0,   0,   0,   0,   0,   0,   0,\n",
       "          0,   0],\n",
       "       [  0,   0,   0,   0,   0,   0,   0,   0,   0,  14,   1, 154, 253,\n",
       "         90,   0,   0,   0,   0,   0,   0,   0,   0,   0,   0,   0,   0,\n",
       "          0,   0],\n",
       "       [  0,   0,   0,   0,   0,   0,   0,   0,   0,   0,   0, 139, 253,\n",
       "        190,   2,   0,   0,   0,   0,   0,   0,   0,   0,   0,   0,   0,\n",
       "          0,   0],\n",
       "       [  0,   0,   0,   0,   0,   0,   0,   0,   0,   0,   0,  11, 190,\n",
       "        253,  70,   0,   0,   0,   0,   0,   0,   0,   0,   0,   0,   0,\n",
       "          0,   0],\n",
       "       [  0,   0,   0,   0,   0,   0,   0,   0,   0,   0,   0,   0,  35,\n",
       "        241, 225, 160, 108,   1,   0,   0,   0,   0,   0,   0,   0,   0,\n",
       "          0,   0],\n",
       "       [  0,   0,   0,   0,   0,   0,   0,   0,   0,   0,   0,   0,   0,\n",
       "         81, 240, 253, 253, 119,  25,   0,   0,   0,   0,   0,   0,   0,\n",
       "          0,   0],\n",
       "       [  0,   0,   0,   0,   0,   0,   0,   0,   0,   0,   0,   0,   0,\n",
       "          0,  45, 186, 253, 253, 150,  27,   0,   0,   0,   0,   0,   0,\n",
       "          0,   0],\n",
       "       [  0,   0,   0,   0,   0,   0,   0,   0,   0,   0,   0,   0,   0,\n",
       "          0,   0,  16,  93, 252, 253, 187,   0,   0,   0,   0,   0,   0,\n",
       "          0,   0],\n",
       "       [  0,   0,   0,   0,   0,   0,   0,   0,   0,   0,   0,   0,   0,\n",
       "          0,   0,   0,   0, 249, 253, 249,  64,   0,   0,   0,   0,   0,\n",
       "          0,   0],\n",
       "       [  0,   0,   0,   0,   0,   0,   0,   0,   0,   0,   0,   0,   0,\n",
       "          0,  46, 130, 183, 253, 253, 207,   2,   0,   0,   0,   0,   0,\n",
       "          0,   0],\n",
       "       [  0,   0,   0,   0,   0,   0,   0,   0,   0,   0,   0,   0,  39,\n",
       "        148, 229, 253, 253, 253, 250, 182,   0,   0,   0,   0,   0,   0,\n",
       "          0,   0],\n",
       "       [  0,   0,   0,   0,   0,   0,   0,   0,   0,   0,  24, 114, 221,\n",
       "        253, 253, 253, 253, 201,  78,   0,   0,   0,   0,   0,   0,   0,\n",
       "          0,   0],\n",
       "       [  0,   0,   0,   0,   0,   0,   0,   0,  23,  66, 213, 253, 253,\n",
       "        253, 253, 198,  81,   2,   0,   0,   0,   0,   0,   0,   0,   0,\n",
       "          0,   0],\n",
       "       [  0,   0,   0,   0,   0,   0,  18, 171, 219, 253, 253, 253, 253,\n",
       "        195,  80,   9,   0,   0,   0,   0,   0,   0,   0,   0,   0,   0,\n",
       "          0,   0],\n",
       "       [  0,   0,   0,   0,  55, 172, 226, 253, 253, 253, 253, 244, 133,\n",
       "         11,   0,   0,   0,   0,   0,   0,   0,   0,   0,   0,   0,   0,\n",
       "          0,   0],\n",
       "       [  0,   0,   0,   0, 136, 253, 253, 253, 212, 135, 132,  16,   0,\n",
       "          0,   0,   0,   0,   0,   0,   0,   0,   0,   0,   0,   0,   0,\n",
       "          0,   0],\n",
       "       [  0,   0,   0,   0,   0,   0,   0,   0,   0,   0,   0,   0,   0,\n",
       "          0,   0,   0,   0,   0,   0,   0,   0,   0,   0,   0,   0,   0,\n",
       "          0,   0],\n",
       "       [  0,   0,   0,   0,   0,   0,   0,   0,   0,   0,   0,   0,   0,\n",
       "          0,   0,   0,   0,   0,   0,   0,   0,   0,   0,   0,   0,   0,\n",
       "          0,   0],\n",
       "       [  0,   0,   0,   0,   0,   0,   0,   0,   0,   0,   0,   0,   0,\n",
       "          0,   0,   0,   0,   0,   0,   0,   0,   0,   0,   0,   0,   0,\n",
       "          0,   0]], dtype=uint8)"
      ]
     },
     "execution_count": 12,
     "metadata": {},
     "output_type": "execute_result"
    }
   ],
   "source": [
    "train_images[0]"
   ]
  },
  {
   "cell_type": "code",
   "execution_count": 13,
   "metadata": {},
   "outputs": [
    {
     "data": {
      "image/png": "[encoded data removed]",
      "text/plain": [
       "<Figure size 432x288 with 1 Axes>"
      ]
     },
     "metadata": {
      "needs_background": "light"
     },
     "output_type": "display_data"
    }
   ],
   "source": [
    "import matplotlib.pyplot as plt\n",
    "plt.imshow(train_images[0], cmap=plt.cm.binary)\n",
    "plt.show()"
   ]
  },
  {
   "cell_type": "code",
   "execution_count": 14,
   "metadata": {},
   "outputs": [
    {
     "data": {
      "text/plain": [
       "5"
      ]
     },
     "execution_count": 14,
     "metadata": {},
     "output_type": "execute_result"
    }
   ],
   "source": [
    "mi_digito = train_labels[0]\n",
    "mi_digito"
   ]
  },
  {
   "cell_type": "markdown",
   "metadata": {},
   "source": [
    "#### Muestra del conjunto de datos"
   ]
  },
  {
   "cell_type": "code",
   "execution_count": 15,
   "metadata": {},
   "outputs": [
    {
     "data": {
      "image/png": "[encoded data removed]",
      "text/plain": [
       "<Figure size 864x720 with 20 Axes>"
      ]
     },
     "metadata": {
      "needs_background": "light"
     },
     "output_type": "display_data"
    }
   ],
   "source": [
    "\n",
    "plt.figure(figsize=(12,10))\n",
    "x, y = 10, 4\n",
    "for i in range(20):  \n",
    "    plt.subplot(y, x, i+1)\n",
    "    plt.imshow(train_images[i].reshape((28,28)),interpolation='nearest')\n",
    "plt.show()"
   ]
  },
  {
   "cell_type": "markdown",
   "metadata": {},
   "source": [
    "**Analisis de Etiquetas**"
   ]
  },
  {
   "cell_type": "code",
   "execution_count": 16,
   "metadata": {},
   "outputs": [
    {
     "data": {
      "text/plain": [
       "(60000,)"
      ]
     },
     "execution_count": 16,
     "metadata": {},
     "output_type": "execute_result"
    }
   ],
   "source": [
    "train_labels.shape"
   ]
  },
  {
   "cell_type": "code",
   "execution_count": 17,
   "metadata": {},
   "outputs": [
    {
     "data": {
      "text/plain": [
       "60000"
      ]
     },
     "execution_count": 17,
     "metadata": {},
     "output_type": "execute_result"
    }
   ],
   "source": [
    "len(train_labels)"
   ]
  },
  {
   "cell_type": "markdown",
   "metadata": {},
   "source": [
    "De la misma forma analizamos el conjunto de datos de imágenes de evaluación"
   ]
  },
  {
   "cell_type": "code",
   "execution_count": 18,
   "metadata": {},
   "outputs": [
    {
     "data": {
      "text/plain": [
       "'uint8'"
      ]
     },
     "execution_count": 18,
     "metadata": {},
     "output_type": "execute_result"
    }
   ],
   "source": [
    "evaluation_images.dtype.name"
   ]
  },
  {
   "cell_type": "code",
   "execution_count": 19,
   "metadata": {},
   "outputs": [
    {
     "data": {
      "text/plain": [
       "(10000, 28, 28)"
      ]
     },
     "execution_count": 19,
     "metadata": {},
     "output_type": "execute_result"
    }
   ],
   "source": [
    "evaluation_images.shape"
   ]
  },
  {
   "cell_type": "code",
   "execution_count": 20,
   "metadata": {},
   "outputs": [
    {
     "data": {
      "text/plain": [
       "10000"
      ]
     },
     "execution_count": 20,
     "metadata": {},
     "output_type": "execute_result"
    }
   ],
   "source": [
    "len(evaluation_images)"
   ]
  },
  {
   "cell_type": "code",
   "execution_count": 21,
   "metadata": {},
   "outputs": [
    {
     "data": {
      "text/plain": [
       "(10000,)"
      ]
     },
     "execution_count": 21,
     "metadata": {},
     "output_type": "execute_result"
    }
   ],
   "source": [
    "evaluation_labels.shape"
   ]
  },
  {
   "cell_type": "code",
   "execution_count": 22,
   "metadata": {},
   "outputs": [
    {
     "data": {
      "text/plain": [
       "10000"
      ]
     },
     "execution_count": 22,
     "metadata": {},
     "output_type": "execute_result"
    }
   ],
   "source": [
    "len(evaluation_labels)"
   ]
  },
  {
   "cell_type": "code",
   "execution_count": 23,
   "metadata": {},
   "outputs": [
    {
     "data": {
      "text/plain": [
       "Counter({5: 5421,\n",
       "         0: 5923,\n",
       "         4: 5842,\n",
       "         1: 6742,\n",
       "         9: 5949,\n",
       "         2: 5958,\n",
       "         3: 6131,\n",
       "         6: 5918,\n",
       "         7: 6265,\n",
       "         8: 5851})"
      ]
     },
     "execution_count": 23,
     "metadata": {},
     "output_type": "execute_result"
    }
   ],
   "source": [
    "FrecEtiquetasEntrenamiento = Counter(train_labels)\n",
    "FrecEtiquetasEntrenamiento"
   ]
  },
  {
   "cell_type": "code",
   "execution_count": 24,
   "metadata": {},
   "outputs": [
    {
     "data": {
      "text/plain": [
       "<matplotlib.axes._subplots.AxesSubplot at 0x7fed84276ed0>"
      ]
     },
     "execution_count": 24,
     "metadata": {},
     "output_type": "execute_result"
    },
    {
     "data": {
      "image/png": "[encoded data removed]",
      "text/plain": [
       "<Figure size 432x288 with 1 Axes>"
      ]
     },
     "metadata": {
      "needs_background": "light"
     },
     "output_type": "display_data"
    }
   ],
   "source": [
    "sns.countplot(train_labels)"
   ]
  },
  {
   "cell_type": "code",
   "execution_count": 25,
   "metadata": {},
   "outputs": [
    {
     "data": {
      "text/plain": [
       "Counter({7: 1028,\n",
       "         2: 1032,\n",
       "         1: 1135,\n",
       "         0: 980,\n",
       "         4: 982,\n",
       "         9: 1009,\n",
       "         5: 892,\n",
       "         6: 958,\n",
       "         3: 1010,\n",
       "         8: 974})"
      ]
     },
     "execution_count": 25,
     "metadata": {},
     "output_type": "execute_result"
    }
   ],
   "source": [
    "FrecEtiquetasEvaluacion = Counter(evaluation_labels)\n",
    "FrecEtiquetasEvaluacion\n"
   ]
  },
  {
   "cell_type": "code",
   "execution_count": 26,
   "metadata": {},
   "outputs": [
    {
     "data": {
      "text/plain": [
       "<matplotlib.axes._subplots.AxesSubplot at 0x7fed841fd6d0>"
      ]
     },
     "execution_count": 26,
     "metadata": {},
     "output_type": "execute_result"
    },
    {
     "data": {
      "image/png": "[encoded data removed]",
      "text/plain": [
       "<Figure size 432x288 with 1 Axes>"
      ]
     },
     "metadata": {
      "needs_background": "light"
     },
     "output_type": "display_data"
    }
   ],
   "source": [
    "sns.countplot(evaluation_labels)"
   ]
  },
  {
   "cell_type": "markdown",
   "metadata": {},
   "source": [
    "Este resultado nos indica que tenemos 10,000 imágenes para la evaluacion del modelo y las correspondientes 10,000 etiquetas"
   ]
  },
  {
   "cell_type": "markdown",
   "metadata": {},
   "source": [
    "### Preparación de los datos de entrenamiento para datos de entrada en la red neuronal. Serialización"
   ]
  },
  {
   "cell_type": "markdown",
   "metadata": {},
   "source": [
    "\n",
    "\n",
    "Los datos recibidos deben prepararse como <strong>tensores</strong> antes de enviarlos a la red neuronal\n",
    "\n",
    "La primera parte es **\"serializar\"** la imagen de una matriz de 28x28, para convertirla en un vector de 784 = 28x28 entradas.\n",
    "\n",
    "Esto se realiza por la función **reshape** de python\n",
    "\n",
    "Convertimos el conjunto (60000, 28, 28) en una matriz (60000, 784)\n",
    "\n",
    "Esta nueva estructura la denominamos: **train_images_serializada**\n",
    "\n",
    "\n",
    " numpy.reshape(a, newshape, order='C')\n",
    "\n",
    "    Genera una nueva forma (shape) a un arreglo sin alterar sus datos (Gives a new shape to an array without changing its data)."
   ]
  },
  {
   "cell_type": "code",
   "execution_count": 27,
   "metadata": {},
   "outputs": [],
   "source": [
    "train_images_serializada = train_images.reshape((60000, 28 * 28))\n"
   ]
  },
  {
   "cell_type": "code",
   "execution_count": 28,
   "metadata": {},
   "outputs": [
    {
     "data": {
      "text/plain": [
       "(60000, 784)"
      ]
     },
     "execution_count": 28,
     "metadata": {},
     "output_type": "execute_result"
    }
   ],
   "source": [
    "train_images_serializada.shape"
   ]
  },
  {
   "cell_type": "code",
   "execution_count": 29,
   "metadata": {},
   "outputs": [
    {
     "data": {
      "text/plain": [
       "(784,)"
      ]
     },
     "execution_count": 29,
     "metadata": {},
     "output_type": "execute_result"
    }
   ],
   "source": [
    "train_images_serializada[0].shape"
   ]
  },
  {
   "cell_type": "code",
   "execution_count": 30,
   "metadata": {},
   "outputs": [
    {
     "data": {
      "text/plain": [
       "array([  0,   0,   0,   0,   0,   0,   0,   0,   0,   0,   0,   0,   0,\n",
       "         0,   0,   0,   0,   0,   0,   0,   0,   0,   0,   0,   0,   0,\n",
       "         0,   0,   0,   0,   0,   0,   0,   0,   0,   0,   0,   0,   0,\n",
       "         0,   0,   0,   0,   0,   0,   0,   0,   0,   0,   0,   0,   0,\n",
       "         0,   0,   0,   0,   0,   0,   0,   0,   0,   0,   0,   0,   0,\n",
       "         0,   0,   0,   0,   0,   0,   0,   0,   0,   0,   0,   0,   0,\n",
       "         0,   0,   0,   0,   0,   0,   0,   0,   0,   0,   0,   0,   0,\n",
       "         0,   0,   0,   0,   0,   0,   0,   0,   0,   0,   0,   0,   0,\n",
       "         0,   0,   0,   0,   0,   0,   0,   0,   0,   0,   0,   0,   0,\n",
       "         0,   0,   0,   0,   0,   0,   0,   0,   0,   0,   0,   0,   0,\n",
       "         0,   0,   0,   0,   0,   0,   0,   0,   0,   0,   0,   0,   0,\n",
       "         0,   0,   0,   0,   0,   0,   0,   0,   0,   3,  18,  18,  18,\n",
       "       126, 136, 175,  26, 166, 255, 247, 127,   0,   0,   0,   0,   0,\n",
       "         0,   0,   0,   0,   0,   0,   0,  30,  36,  94, 154, 170, 253,\n",
       "       253, 253, 253, 253, 225, 172, 253, 242, 195,  64,   0,   0,   0,\n",
       "         0,   0,   0,   0,   0,   0,   0,   0,  49, 238, 253, 253, 253,\n",
       "       253, 253, 253, 253, 253, 251,  93,  82,  82,  56,  39,   0,   0,\n",
       "         0,   0,   0,   0,   0,   0,   0,   0,   0,   0,  18, 219, 253,\n",
       "       253, 253, 253, 253, 198, 182, 247, 241,   0,   0,   0,   0,   0,\n",
       "         0,   0,   0,   0,   0,   0,   0,   0,   0,   0,   0,   0,   0,\n",
       "        80, 156, 107, 253, 253, 205,  11,   0,  43, 154,   0,   0,   0,\n",
       "         0,   0,   0,   0,   0,   0,   0,   0,   0,   0,   0,   0,   0,\n",
       "         0,   0,   0,  14,   1, 154, 253,  90,   0,   0,   0,   0,   0,\n",
       "         0,   0,   0,   0,   0,   0,   0,   0,   0,   0,   0,   0,   0,\n",
       "         0,   0,   0,   0,   0,   0,   0, 139, 253, 190,   2,   0,   0,\n",
       "         0,   0,   0,   0,   0,   0,   0,   0,   0,   0,   0,   0,   0,\n",
       "         0,   0,   0,   0,   0,   0,   0,   0,   0,  11, 190, 253,  70,\n",
       "         0,   0,   0,   0,   0,   0,   0,   0,   0,   0,   0,   0,   0,\n",
       "         0,   0,   0,   0,   0,   0,   0,   0,   0,   0,   0,   0,  35,\n",
       "       241, 225, 160, 108,   1,   0,   0,   0,   0,   0,   0,   0,   0,\n",
       "         0,   0,   0,   0,   0,   0,   0,   0,   0,   0,   0,   0,   0,\n",
       "         0,   0,  81, 240, 253, 253, 119,  25,   0,   0,   0,   0,   0,\n",
       "         0,   0,   0,   0,   0,   0,   0,   0,   0,   0,   0,   0,   0,\n",
       "         0,   0,   0,   0,   0,  45, 186, 253, 253, 150,  27,   0,   0,\n",
       "         0,   0,   0,   0,   0,   0,   0,   0,   0,   0,   0,   0,   0,\n",
       "         0,   0,   0,   0,   0,   0,   0,   0,  16,  93, 252, 253, 187,\n",
       "         0,   0,   0,   0,   0,   0,   0,   0,   0,   0,   0,   0,   0,\n",
       "         0,   0,   0,   0,   0,   0,   0,   0,   0,   0,   0,   0, 249,\n",
       "       253, 249,  64,   0,   0,   0,   0,   0,   0,   0,   0,   0,   0,\n",
       "         0,   0,   0,   0,   0,   0,   0,   0,   0,   0,   0,  46, 130,\n",
       "       183, 253, 253, 207,   2,   0,   0,   0,   0,   0,   0,   0,   0,\n",
       "         0,   0,   0,   0,   0,   0,   0,   0,   0,   0,   0,  39, 148,\n",
       "       229, 253, 253, 253, 250, 182,   0,   0,   0,   0,   0,   0,   0,\n",
       "         0,   0,   0,   0,   0,   0,   0,   0,   0,   0,   0,  24, 114,\n",
       "       221, 253, 253, 253, 253, 201,  78,   0,   0,   0,   0,   0,   0,\n",
       "         0,   0,   0,   0,   0,   0,   0,   0,   0,   0,   0,  23,  66,\n",
       "       213, 253, 253, 253, 253, 198,  81,   2,   0,   0,   0,   0,   0,\n",
       "         0,   0,   0,   0,   0,   0,   0,   0,   0,   0,   0,  18, 171,\n",
       "       219, 253, 253, 253, 253, 195,  80,   9,   0,   0,   0,   0,   0,\n",
       "         0,   0,   0,   0,   0,   0,   0,   0,   0,   0,   0,  55, 172,\n",
       "       226, 253, 253, 253, 253, 244, 133,  11,   0,   0,   0,   0,   0,\n",
       "         0,   0,   0,   0,   0,   0,   0,   0,   0,   0,   0,   0,   0,\n",
       "       136, 253, 253, 253, 212, 135, 132,  16,   0,   0,   0,   0,   0,\n",
       "         0,   0,   0,   0,   0,   0,   0,   0,   0,   0,   0,   0,   0,\n",
       "         0,   0,   0,   0,   0,   0,   0,   0,   0,   0,   0,   0,   0,\n",
       "         0,   0,   0,   0,   0,   0,   0,   0,   0,   0,   0,   0,   0,\n",
       "         0,   0,   0,   0,   0,   0,   0,   0,   0,   0,   0,   0,   0,\n",
       "         0,   0,   0,   0,   0,   0,   0,   0,   0,   0,   0,   0,   0,\n",
       "         0,   0,   0,   0,   0,   0,   0,   0,   0,   0,   0,   0,   0,\n",
       "         0,   0,   0,   0,   0,   0,   0,   0,   0,   0,   0,   0,   0,\n",
       "         0,   0,   0,   0], dtype=uint8)"
      ]
     },
     "execution_count": 30,
     "metadata": {},
     "output_type": "execute_result"
    }
   ],
   "source": [
    "train_images_serializada[0]"
   ]
  },
  {
   "cell_type": "markdown",
   "metadata": {},
   "source": [
    "### Preparación de los datos de entrenamiento para datos de entrada en la red neuronal. Normalización a valores en escala estándar\n",
    "\n",
    "El valor que tiene cada elemento de la matriz, es un número de 0 a 255 que representa el pixel en escala de grises (tipo uint8 con valores en el intervalo de [0, 255]). Sin embargo, estos valores no son adecuados para la red neuronal que requiere que los valores de entrada se encuentren en una escala de 0 al 1\n",
    "\n",
    "Cada imagen es una matriz de 28 x 28. Para crear una estructura unidimensional se alinea o serializa la matriz 28x28 = 784 elementos, en un vector. Esto se realiza por medio de la función python \"reshape\"\n",
    "\n",
    "Enseguida cada valor se normaliza a una escala de 0 a 1, dividiendo cada valor de cada celda por 255, que es el valor maximo\n",
    "\n",
    "El resultado obtenido es un conjunto de datos normalizado con valores entre 0 y 1\n",
    "\n",
    "Este conjunto de datos lo denominamos **train_images_serializada_normalizada**\n",
    "\n",
    "\n"
   ]
  },
  {
   "cell_type": "code",
   "execution_count": 31,
   "metadata": {},
   "outputs": [],
   "source": [
    "ValorMaxEscalaGrises = 255"
   ]
  },
  {
   "cell_type": "markdown",
   "metadata": {},
   "source": [
    "Los valores de la matriz no están normalizados.\n",
    "\n",
    "Por medio del siguiente enunciado convertimos cada valor a un rango (0,1)"
   ]
  },
  {
   "cell_type": "code",
   "execution_count": 32,
   "metadata": {},
   "outputs": [],
   "source": [
    "train_images_serializada_normalizada = train_images_serializada.astype('float32') / ValorMaxEscalaGrises"
   ]
  },
  {
   "cell_type": "code",
   "execution_count": 33,
   "metadata": {},
   "outputs": [
    {
     "data": {
      "text/plain": [
       "array([0.        , 0.        , 0.        , 0.        , 0.        ,\n",
       "       0.        , 0.        , 0.        , 0.        , 0.        ,\n",
       "       0.        , 0.        , 0.        , 0.        , 0.        ,\n",
       "       0.        , 0.        , 0.        , 0.        , 0.        ,\n",
       "       0.        , 0.        , 0.        , 0.        , 0.        ,\n",
       "       0.        , 0.        , 0.        , 0.        , 0.        ,\n",
       "       0.        , 0.        , 0.        , 0.        , 0.        ,\n",
       "       0.        , 0.        , 0.        , 0.        , 0.        ,\n",
       "       0.        , 0.        , 0.        , 0.        , 0.        ,\n",
       "       0.        , 0.        , 0.        , 0.        , 0.        ,\n",
       "       0.        , 0.        , 0.        , 0.        , 0.        ,\n",
       "       0.        , 0.        , 0.        , 0.        , 0.        ,\n",
       "       0.        , 0.        , 0.        , 0.        , 0.        ,\n",
       "       0.        , 0.        , 0.        , 0.        , 0.        ,\n",
       "       0.        , 0.        , 0.        , 0.        , 0.        ,\n",
       "       0.        , 0.        , 0.        , 0.        , 0.        ,\n",
       "       0.        , 0.        , 0.        , 0.        , 0.        ,\n",
       "       0.        , 0.        , 0.        , 0.        , 0.        ,\n",
       "       0.        , 0.        , 0.        , 0.        , 0.        ,\n",
       "       0.        , 0.        , 0.        , 0.        , 0.        ,\n",
       "       0.        , 0.        , 0.        , 0.        , 0.        ,\n",
       "       0.        , 0.        , 0.        , 0.        , 0.        ,\n",
       "       0.        , 0.        , 0.        , 0.        , 0.        ,\n",
       "       0.        , 0.        , 0.        , 0.        , 0.        ,\n",
       "       0.        , 0.        , 0.        , 0.        , 0.        ,\n",
       "       0.        , 0.        , 0.        , 0.        , 0.        ,\n",
       "       0.        , 0.        , 0.        , 0.        , 0.        ,\n",
       "       0.        , 0.        , 0.        , 0.        , 0.        ,\n",
       "       0.        , 0.        , 0.        , 0.        , 0.        ,\n",
       "       0.        , 0.        , 0.        , 0.        , 0.        ,\n",
       "       0.        , 0.        , 0.01176471, 0.07058824, 0.07058824,\n",
       "       0.07058824, 0.49411765, 0.53333336, 0.6862745 , 0.10196079,\n",
       "       0.6509804 , 1.        , 0.96862745, 0.49803922, 0.        ,\n",
       "       0.        , 0.        , 0.        , 0.        , 0.        ,\n",
       "       0.        , 0.        , 0.        , 0.        , 0.        ,\n",
       "       0.        , 0.11764706, 0.14117648, 0.36862746, 0.6039216 ,\n",
       "       0.6666667 , 0.99215686, 0.99215686, 0.99215686, 0.99215686,\n",
       "       0.99215686, 0.88235295, 0.6745098 , 0.99215686, 0.9490196 ,\n",
       "       0.7647059 , 0.2509804 , 0.        , 0.        , 0.        ,\n",
       "       0.        , 0.        , 0.        , 0.        , 0.        ,\n",
       "       0.        , 0.        , 0.        , 0.19215687, 0.93333334,\n",
       "       0.99215686, 0.99215686, 0.99215686, 0.99215686, 0.99215686,\n",
       "       0.99215686, 0.99215686, 0.99215686, 0.9843137 , 0.3647059 ,\n",
       "       0.32156864, 0.32156864, 0.21960784, 0.15294118, 0.        ,\n",
       "       0.        , 0.        , 0.        , 0.        , 0.        ,\n",
       "       0.        , 0.        , 0.        , 0.        , 0.        ,\n",
       "       0.        , 0.07058824, 0.85882354, 0.99215686, 0.99215686,\n",
       "       0.99215686, 0.99215686, 0.99215686, 0.7764706 , 0.7137255 ,\n",
       "       0.96862745, 0.94509804, 0.        , 0.        , 0.        ,\n",
       "       0.        , 0.        , 0.        , 0.        , 0.        ,\n",
       "       0.        , 0.        , 0.        , 0.        , 0.        ,\n",
       "       0.        , 0.        , 0.        , 0.        , 0.        ,\n",
       "       0.3137255 , 0.6117647 , 0.41960785, 0.99215686, 0.99215686,\n",
       "       0.8039216 , 0.04313726, 0.        , 0.16862746, 0.6039216 ,\n",
       "       0.        , 0.        , 0.        , 0.        , 0.        ,\n",
       "       0.        , 0.        , 0.        , 0.        , 0.        ,\n",
       "       0.        , 0.        , 0.        , 0.        , 0.        ,\n",
       "       0.        , 0.        , 0.        , 0.        , 0.05490196,\n",
       "       0.00392157, 0.6039216 , 0.99215686, 0.3529412 , 0.        ,\n",
       "       0.        , 0.        , 0.        , 0.        , 0.        ,\n",
       "       0.        , 0.        , 0.        , 0.        , 0.        ,\n",
       "       0.        , 0.        , 0.        , 0.        , 0.        ,\n",
       "       0.        , 0.        , 0.        , 0.        , 0.        ,\n",
       "       0.        , 0.        , 0.        , 0.        , 0.54509807,\n",
       "       0.99215686, 0.74509805, 0.00784314, 0.        , 0.        ,\n",
       "       0.        , 0.        , 0.        , 0.        , 0.        ,\n",
       "       0.        , 0.        , 0.        , 0.        , 0.        ,\n",
       "       0.        , 0.        , 0.        , 0.        , 0.        ,\n",
       "       0.        , 0.        , 0.        , 0.        , 0.        ,\n",
       "       0.        , 0.        , 0.04313726, 0.74509805, 0.99215686,\n",
       "       0.27450982, 0.        , 0.        , 0.        , 0.        ,\n",
       "       0.        , 0.        , 0.        , 0.        , 0.        ,\n",
       "       0.        , 0.        , 0.        , 0.        , 0.        ,\n",
       "       0.        , 0.        , 0.        , 0.        , 0.        ,\n",
       "       0.        , 0.        , 0.        , 0.        , 0.        ,\n",
       "       0.        , 0.13725491, 0.94509804, 0.88235295, 0.627451  ,\n",
       "       0.42352942, 0.00392157, 0.        , 0.        , 0.        ,\n",
       "       0.        , 0.        , 0.        , 0.        , 0.        ,\n",
       "       0.        , 0.        , 0.        , 0.        , 0.        ,\n",
       "       0.        , 0.        , 0.        , 0.        , 0.        ,\n",
       "       0.        , 0.        , 0.        , 0.        , 0.        ,\n",
       "       0.31764707, 0.9411765 , 0.99215686, 0.99215686, 0.46666667,\n",
       "       0.09803922, 0.        , 0.        , 0.        , 0.        ,\n",
       "       0.        , 0.        , 0.        , 0.        , 0.        ,\n",
       "       0.        , 0.        , 0.        , 0.        , 0.        ,\n",
       "       0.        , 0.        , 0.        , 0.        , 0.        ,\n",
       "       0.        , 0.        , 0.        , 0.        , 0.1764706 ,\n",
       "       0.7294118 , 0.99215686, 0.99215686, 0.5882353 , 0.10588235,\n",
       "       0.        , 0.        , 0.        , 0.        , 0.        ,\n",
       "       0.        , 0.        , 0.        , 0.        , 0.        ,\n",
       "       0.        , 0.        , 0.        , 0.        , 0.        ,\n",
       "       0.        , 0.        , 0.        , 0.        , 0.        ,\n",
       "       0.        , 0.        , 0.        , 0.0627451 , 0.3647059 ,\n",
       "       0.9882353 , 0.99215686, 0.73333335, 0.        , 0.        ,\n",
       "       0.        , 0.        , 0.        , 0.        , 0.        ,\n",
       "       0.        , 0.        , 0.        , 0.        , 0.        ,\n",
       "       0.        , 0.        , 0.        , 0.        , 0.        ,\n",
       "       0.        , 0.        , 0.        , 0.        , 0.        ,\n",
       "       0.        , 0.        , 0.        , 0.9764706 , 0.99215686,\n",
       "       0.9764706 , 0.2509804 , 0.        , 0.        , 0.        ,\n",
       "       0.        , 0.        , 0.        , 0.        , 0.        ,\n",
       "       0.        , 0.        , 0.        , 0.        , 0.        ,\n",
       "       0.        , 0.        , 0.        , 0.        , 0.        ,\n",
       "       0.        , 0.        , 0.        , 0.18039216, 0.50980395,\n",
       "       0.7176471 , 0.99215686, 0.99215686, 0.8117647 , 0.00784314,\n",
       "       0.        , 0.        , 0.        , 0.        , 0.        ,\n",
       "       0.        , 0.        , 0.        , 0.        , 0.        ,\n",
       "       0.        , 0.        , 0.        , 0.        , 0.        ,\n",
       "       0.        , 0.        , 0.        , 0.        , 0.15294118,\n",
       "       0.5803922 , 0.8980392 , 0.99215686, 0.99215686, 0.99215686,\n",
       "       0.98039216, 0.7137255 , 0.        , 0.        , 0.        ,\n",
       "       0.        , 0.        , 0.        , 0.        , 0.        ,\n",
       "       0.        , 0.        , 0.        , 0.        , 0.        ,\n",
       "       0.        , 0.        , 0.        , 0.        , 0.        ,\n",
       "       0.09411765, 0.44705883, 0.8666667 , 0.99215686, 0.99215686,\n",
       "       0.99215686, 0.99215686, 0.7882353 , 0.30588236, 0.        ,\n",
       "       0.        , 0.        , 0.        , 0.        , 0.        ,\n",
       "       0.        , 0.        , 0.        , 0.        , 0.        ,\n",
       "       0.        , 0.        , 0.        , 0.        , 0.        ,\n",
       "       0.        , 0.09019608, 0.25882354, 0.8352941 , 0.99215686,\n",
       "       0.99215686, 0.99215686, 0.99215686, 0.7764706 , 0.31764707,\n",
       "       0.00784314, 0.        , 0.        , 0.        , 0.        ,\n",
       "       0.        , 0.        , 0.        , 0.        , 0.        ,\n",
       "       0.        , 0.        , 0.        , 0.        , 0.        ,\n",
       "       0.        , 0.        , 0.07058824, 0.67058825, 0.85882354,\n",
       "       0.99215686, 0.99215686, 0.99215686, 0.99215686, 0.7647059 ,\n",
       "       0.3137255 , 0.03529412, 0.        , 0.        , 0.        ,\n",
       "       0.        , 0.        , 0.        , 0.        , 0.        ,\n",
       "       0.        , 0.        , 0.        , 0.        , 0.        ,\n",
       "       0.        , 0.        , 0.        , 0.21568628, 0.6745098 ,\n",
       "       0.8862745 , 0.99215686, 0.99215686, 0.99215686, 0.99215686,\n",
       "       0.95686275, 0.52156866, 0.04313726, 0.        , 0.        ,\n",
       "       0.        , 0.        , 0.        , 0.        , 0.        ,\n",
       "       0.        , 0.        , 0.        , 0.        , 0.        ,\n",
       "       0.        , 0.        , 0.        , 0.        , 0.        ,\n",
       "       0.        , 0.53333336, 0.99215686, 0.99215686, 0.99215686,\n",
       "       0.83137256, 0.5294118 , 0.5176471 , 0.0627451 , 0.        ,\n",
       "       0.        , 0.        , 0.        , 0.        , 0.        ,\n",
       "       0.        , 0.        , 0.        , 0.        , 0.        ,\n",
       "       0.        , 0.        , 0.        , 0.        , 0.        ,\n",
       "       0.        , 0.        , 0.        , 0.        , 0.        ,\n",
       "       0.        , 0.        , 0.        , 0.        , 0.        ,\n",
       "       0.        , 0.        , 0.        , 0.        , 0.        ,\n",
       "       0.        , 0.        , 0.        , 0.        , 0.        ,\n",
       "       0.        , 0.        , 0.        , 0.        , 0.        ,\n",
       "       0.        , 0.        , 0.        , 0.        , 0.        ,\n",
       "       0.        , 0.        , 0.        , 0.        , 0.        ,\n",
       "       0.        , 0.        , 0.        , 0.        , 0.        ,\n",
       "       0.        , 0.        , 0.        , 0.        , 0.        ,\n",
       "       0.        , 0.        , 0.        , 0.        , 0.        ,\n",
       "       0.        , 0.        , 0.        , 0.        , 0.        ,\n",
       "       0.        , 0.        , 0.        , 0.        , 0.        ,\n",
       "       0.        , 0.        , 0.        , 0.        , 0.        ,\n",
       "       0.        , 0.        , 0.        , 0.        , 0.        ,\n",
       "       0.        , 0.        , 0.        , 0.        , 0.        ,\n",
       "       0.        , 0.        , 0.        , 0.        , 0.        ,\n",
       "       0.        , 0.        , 0.        , 0.        ], dtype=float32)"
      ]
     },
     "execution_count": 33,
     "metadata": {},
     "output_type": "execute_result"
    }
   ],
   "source": [
    "train_images_serializada_normalizada[0]"
   ]
  },
  {
   "cell_type": "markdown",
   "metadata": {},
   "source": [
    "\n",
    "***Preparación de los datos de evaluación para datos de entrada en la red neuronal. Serialización y Normalización a valores en escala estándar***\n",
    "\n",
    "\n",
    "Se realiza el mismo procedimiento en las imágenes para la evaluación del modelo"
   ]
  },
  {
   "cell_type": "code",
   "execution_count": 34,
   "metadata": {},
   "outputs": [],
   "source": [
    "evaluation_images_serializada = evaluation_images.reshape((10000, 28 * 28))\n",
    "\n",
    "\n",
    "evaluation_images_serializada_normalizada = evaluation_images_serializada.astype('float32') / ValorMaxEscalaGrises"
   ]
  },
  {
   "cell_type": "markdown",
   "metadata": {},
   "source": [
    "# Normalización de datos de etiquetas"
   ]
  },
  {
   "cell_type": "markdown",
   "metadata": {},
   "source": [
    "El conjunto de datos de las etiquetas deben tambien normalizarse a **numeros** \n",
    "\n",
    "De la misma forma se realiza una normalización de las etiquetas.\n",
    "\n",
    "Los valores de las etiquetas se normalizan utilizando una herramienta de keras\n",
    "\n",
    "Para el conjunto de datos de las etiquetas, se realiza una transformación para su normalización. Esto se lleva a cabo utilizando una técnica que asocia a una etiqueta que toma valores de un catálogo de N valores diferentes, un vector de N coordenadas, en donde se indica un 1 en la celda que corresponda al valor.\n",
    "\n",
    "Esta normalización de etiquetas se realiza por medio de una herramienta de ayuda de keras, denominada <strong>to_categorical</strong>\n",
    "\n",
    "En el caso presente, tenemos un catálogo de 10 valores posibles (0,1,2,3,4,5,6,7,8,9)\n",
    "\n",
    "Como ejemplo, tenemos el primer valor del conjunto como el número 5.\n",
    "\n",
    "Dado que tenemos 10 valores, se asocia un vector de 10 posiciones y a la etiqueta se le asocia el vector\n",
    "\n",
    "(0.,0.,0.,0.,0.,1.,0.,0.,0.,0.)\n",
    "\n",
    "\n",
    "Herramienta de ayuda de keras: **to_categorical**\n",
    "\n",
    "tf.keras.utils.to_categorical( y, num_classes=None )\n",
    "\n",
    "La herramienta de keras <strong>to_categorical</strong> convierte una clase de vectores de enteros a una clase de matrices con solo dos valores (a class vector (integers) to binary class matrix).\n",
    "\n",
    "Argumentos:\n",
    "\n",
    "y: class vector que se convertirá en una matriz (enteros de 0 a num_classes).\n",
    "\n",
    "num_classes: numero total de clases.\n",
    "\n",
    "Regresa:\n",
    "\n",
    "Una matriz binaria como representación de la entrada\n",
    "Conversion a tensor del conjunto de datos de etiquetas\n",
    "\n",
    "En el caso presente, la etiqueta es el número que corresponde al dígito manuscrito en la imagen\n",
    "\n",
    "Esto NO debe pensarse como un número sino como un elemento de un catálogo que tiene 10 elementos etiqueta\n",
    "\n",
    "Debemos convertir la etiqueta a un tensor\n",
    "\n",
    "Esta es una técnica conocida en donde una etiqueta que toma sus valores de un catálogo, se convierte a tensor, es decir un vector de números, que además esten normalizados.\n",
    "\n",
    "La técnica es asociar a cada elemento o valor del catálogo de N valores diferentes, un vector en el espacio N dimensional, en donde se pone un uno (1) en la celda correspondiente al número que ocupa en el catálogo\n",
    "\n",
    "Asi en nuestro caso N=10 diferentes dígitos, con el mapeo en el catálogo, se tiene lo siguiente:\n",
    "\n",
    "Etiqueta => NumCoordenada\n",
    "\n",
    "0 => 1\n",
    "\n",
    "1 => 2\n",
    "\n",
    "...\n",
    "\n",
    "9 => 10\n",
    "\n",
    "Como ejemplo, si tenemos el valor etiqueta el número 5.\n",
    "\n",
    "Dado que tenemos 10 valores, se asocia un vector de 10 posiciones y a la etiqueta se le asocia el vector\n",
    "\n",
    "(0.,0.,0.,0.,0.,1.,0.,0.,0.,0.)"
   ]
  },
  {
   "cell_type": "markdown",
   "metadata": {},
   "source": [
    "\n",
    "\n",
    "## Normalizacion de datos de etiquetas\n",
    "\n",
    "De la misma forma se realiza una normalizacion de las etiquetas.\n",
    "\n",
    "Este es el problema estandar de la conversion de caracteristicas de tipo categoria a un numero o vector de numeros, es decir un tensor.\n",
    "\n",
    "Los valores de las etiquetas se normalizan utilizando una herramienta de keras\n",
    "\n",
    "\n",
    "Para el conjunto de datos de las etiquetas, se realiza una transformación para su normalización. \n",
    "\n",
    "Esto se lleva a cabo utilizando una técnica que asocia a una etiqueta que toma valores de un catálogo de N valores diferentes, un vector de N coordenadas, en donde se indica un 1 en la celda que corresponda al valor.\n",
    "\n",
    "Esta normalización de etiquetas se realiza por medio de una herramienta de ayuda de keras, denominada <strong>to_categorical</strong>\n",
    "\n",
    "En el caso presente, tenemos un catálogo de 10 valores posibles (0,1,2,3,4,5,6,7,8,9)\n",
    "\n",
    "Como ejemplo, tenemos el primer valor del conjunto como el número 5.\n",
    "\n",
    "Dado que tenemos 10 valores, se asocia un vector de 10 posiciones y a la etiqueta se le asocia el vector\n",
    "\n",
    "(0.,0.,0.,0.,0.,1.,0.,0.,0.,0.)\n",
    "\n",
    "## Herramienta de ayuda de keras:  to_categorical\n",
    "\n",
    "tf.keras.utils.to_categorical( y, num_classes=None )\n",
    "\n",
    "La herramienta de keras <strong>to_categorical</strong> convierte una clase de vectores de enteros a una clase de matrices con solo dos valores (a class vector (integers) to binary class matrix).\n",
    "\n",
    "Argumentos:\n",
    "\n",
    "\n",
    "y: class vector que se convertirá en una matriz (enteros de 0 a num_classes).\n",
    "\n",
    "num_classes: numero total de clases.\n",
    "\n",
    "Regresa:\n",
    "\n",
    "Una matriz binaria como representación de la entrada \n",
    "\n",
    "\n",
    "## Conversión a tensor del conjunto de datos de etiquetas\n",
    "\n",
    "En el caso presente, la etiqueta es el número que corresponde al dígito manuscrito en la imagen\n",
    "\n",
    "Esto NO debe pensarse como un número sino como un elemento de un catálogo que tiene 10 elementos etiqueta\n",
    "\n",
    "Debemos convertir la etiqueta a un tensor\n",
    "\n",
    "Esta es una técnica conocida en donde una etiqueta que toma sus valores de un catálogo, se convierte a tensor, es decir un vector de números, que además esten normalizados.\n",
    "\n",
    "La técnica es asociar a cada elemento o valor del catálogo de N valores diferentes, un vector en el espacio N dimensional, en donde se pone un uno (1) en la celda correspondiente al número que ocupa en el catálogo\n",
    "\n",
    "Asi en nuestro caso N=10 diferentes dígitos, con el mapeo en el catálogo, se tiene lo siguiente:\n",
    "\n",
    "Etiqueta => NumCoordenada \n",
    "\n",
    "0 => 1\n",
    "\n",
    "1 => 2\n",
    "\n",
    "...\n",
    "\n",
    "9 => 10\n",
    "\n",
    "Como ejemplo, si tenemos el valor etiqueta el número 5.\n",
    "\n",
    "Dado que tenemos 10 valores, se asocia un vector de 10 posiciones y a la etiqueta se le asocia el vector\n",
    "\n",
    "(0.,0.,0.,0.,0.,1.,0.,0.,0.,0.)\n",
    "\n",
    "Es decir, cada elemento etiqueta se convierte en un vector de 10 coordenadas"
   ]
  },
  {
   "cell_type": "markdown",
   "metadata": {},
   "source": [
    "# Conversión a tensor de las etiquetas"
   ]
  },
  {
   "cell_type": "code",
   "execution_count": 35,
   "metadata": {},
   "outputs": [],
   "source": [
    "from keras.utils import to_categorical\n",
    "\n",
    "train_labels_normalizada = to_categorical(train_labels)\n",
    "evaluation_labels_normalizada = to_categorical(evaluation_labels)"
   ]
  },
  {
   "cell_type": "code",
   "execution_count": 36,
   "metadata": {},
   "outputs": [
    {
     "data": {
      "text/plain": [
       "5"
      ]
     },
     "execution_count": 36,
     "metadata": {},
     "output_type": "execute_result"
    }
   ],
   "source": [
    "train_labels[0]"
   ]
  },
  {
   "cell_type": "code",
   "execution_count": 37,
   "metadata": {},
   "outputs": [
    {
     "data": {
      "text/plain": [
       "array([0., 0., 0., 0., 0., 1., 0., 0., 0., 0.], dtype=float32)"
      ]
     },
     "execution_count": 37,
     "metadata": {},
     "output_type": "execute_result"
    }
   ],
   "source": [
    "train_labels_normalizada[0]"
   ]
  },
  {
   "cell_type": "code",
   "execution_count": 38,
   "metadata": {},
   "outputs": [
    {
     "data": {
      "text/plain": [
       "array([[0., 0., 0., ..., 0., 0., 0.],\n",
       "       [1., 0., 0., ..., 0., 0., 0.],\n",
       "       [0., 0., 0., ..., 0., 0., 0.],\n",
       "       ...,\n",
       "       [0., 0., 0., ..., 0., 0., 0.],\n",
       "       [0., 0., 0., ..., 0., 0., 0.],\n",
       "       [0., 0., 0., ..., 0., 1., 0.]], dtype=float32)"
      ]
     },
     "execution_count": 38,
     "metadata": {},
     "output_type": "execute_result"
    }
   ],
   "source": [
    "train_labels_normalizada"
   ]
  },
  {
   "cell_type": "code",
   "execution_count": 39,
   "metadata": {},
   "outputs": [
    {
     "data": {
      "text/plain": [
       "(60000, 10)"
      ]
     },
     "execution_count": 39,
     "metadata": {},
     "output_type": "execute_result"
    }
   ],
   "source": [
    "train_labels_normalizada.shape"
   ]
  },
  {
   "cell_type": "code",
   "execution_count": 40,
   "metadata": {},
   "outputs": [
    {
     "data": {
      "text/plain": [
       "(10000, 10)"
      ]
     },
     "execution_count": 40,
     "metadata": {},
     "output_type": "execute_result"
    }
   ],
   "source": [
    "evaluation_labels_normalizada.shape"
   ]
  },
  {
   "cell_type": "code",
   "execution_count": 41,
   "metadata": {},
   "outputs": [
    {
     "data": {
      "text/plain": [
       "(784,)"
      ]
     },
     "execution_count": 41,
     "metadata": {},
     "output_type": "execute_result"
    }
   ],
   "source": [
    "train_images_serializada_normalizada[0].shape"
   ]
  },
  {
   "cell_type": "markdown",
   "metadata": {},
   "source": [
    "En este momento ya se cuenta con los datos de entrada de la red neuronal normalizados\n",
    "\n",
    "**train_images_serializada_normalizada**\n",
    "\n",
    "**train_labels_normalizada**\n",
    "\n",
    "**evaluation_images_serializada_normalizada**\n",
    "\n",
    "**evaluation_labels_normalizada**\n",
    "\n",
    "\n",
    "\n"
   ]
  },
  {
   "cell_type": "markdown",
   "metadata": {},
   "source": [
    "# Definición Red Neuronal con keras\n",
    "\n",
    "El concepto base de una red neuronal es la **capa** (layer).\n",
    "\n",
    "En la construcción de una red neuronal se debe definir cada una de las capas (layer).\n",
    "\n",
    "Una capa es un modulo de procesamiento de datos (data-processing module) que puede pensarse como un filtro que recibe datos y los transforma en otra representación que aporta valor a su entendimiento y a la solución de la problemática.\n",
    "\n",
    "Algunos datos entran en la capa y salen otros de la capa, con una representación de mayor utilidad para la solución del problema. (Some data comes in, and comes out in a more useful form). \n",
    "\n",
    "El concepto del Aprendizaje Profundo es encadenar capas sencillas que instrumentan una especie de proceso progresivo de \"destilación de datos\" (progressive \"data distillation\"). \n",
    "\n",
    "En el caso presente, la red neuronal consiste de una secuencia de dos capas `Dense`, con función de activación \"relu\", Rectified Linear Unit.\n",
    "\n",
    "Una capa tipo **Dense** tambien se conoce como **capa neuronal totalmente conectada** (\"fully-connected neural layer\"). Es decir, todas las neuronas de esta capa se conectan con las neuronas de la siguiente capa. \n",
    "\n",
    "Se define el tipo de red: **Sequential()**\n",
    "\n",
    "Se añade cada una de las capas (layer).\n",
    "\n",
    "La primera capa con tipo **Dense()**, número de neuronas en la capa, en el caso presente tenemos, 512 \n",
    "\n",
    "La función de activación de la capa **activation='relu'**, y el tipo de forma de la entrada de los datos que se entregan a la red: **input_shape='784'**\n",
    "\n",
    "La segunda capa con tipo Dense(), número de neuronas en la capa (10), la función de activación de la capa:\n",
    "**activation='softmax'**\n",
    "\n",
    "La segunda capa tiene 10 neuronas con función de activación **\"softmax\"**.\n",
    "\n",
    "Esto significa que regresa un arreglo de 10 valores que representan la probabilidad que el número este en la celda. Es decir, la suma de los valores es 1. (an array of 10 probability score, summing to 1). \n",
    "\n",
    "\n"
   ]
  },
  {
   "cell_type": "markdown",
   "metadata": {},
   "source": [
    "#### Importación de elementos de keras para defición de la red neuronal "
   ]
  },
  {
   "cell_type": "code",
   "execution_count": 42,
   "metadata": {},
   "outputs": [
    {
     "name": "stdout",
     "output_type": "stream",
     "text": [
      "WARNING:tensorflow:From /home/saXsa/anaconda3/envs/keras/lib/python3.7/site-packages/tensorflow/python/framework/op_def_library.py:263: colocate_with (from tensorflow.python.framework.ops) is deprecated and will be removed in a future version.\n",
      "Instructions for updating:\n",
      "Colocations handled automatically by placer.\n"
     ]
    }
   ],
   "source": [
    "## modelos: models\n",
    "from keras import models\n",
    "\n",
    "## capas: layers\n",
    "from keras import layers\n",
    "\n",
    "## elementos para almacenar en formato json\n",
    "from keras.models import model_from_json\n",
    "\n",
    "mi_modelo = models.Sequential()\n",
    "mi_modelo.add(layers.Dense(512, activation='relu', input_shape=train_images_serializada_normalizada[0].shape ))\n",
    "mi_modelo.add(layers.Dense(10, activation='softmax'))"
   ]
  },
  {
   "cell_type": "markdown",
   "metadata": {},
   "source": [
    "\n",
    "\n",
    "\n",
    "\n",
    "\n",
    "## Parametro input shape\n",
    "\n",
    "El modelo requiere conocer la forma de los datos de entrada que recibe. Por tal razón, la primera capa de un modelo tipo Sequential necesita este parámetro.\n",
    "\n",
    "En el caso del modelo Sequential solamente la primera capa requiere este parámetro, dado que las siguientes capas infieren de forma automática la forma de los valores que reciben de la capa anterior. \n",
    "\n",
    "En nuestro caso la forma es:\n",
    "\n",
    "train_images_serializada_normalizada[0].shape\n",
    "\n",
    "Esta tiene un valor de 784"
   ]
  },
  {
   "cell_type": "code",
   "execution_count": 43,
   "metadata": {},
   "outputs": [
    {
     "data": {
      "text/plain": [
       "(784,)"
      ]
     },
     "execution_count": 43,
     "metadata": {},
     "output_type": "execute_result"
    }
   ],
   "source": [
    "train_images_serializada_normalizada[0].shape"
   ]
  },
  {
   "cell_type": "markdown",
   "metadata": {},
   "source": [
    "Para iniciar el modelo, keras asigna de forma aleatoria un valor a todos los \"pesos\" \n",
    "\n",
    "Tenemos 784 valores que deben darse a cada una de las 512 neuronas de inicio\n",
    "\n",
    "Es decir, tendremos una matriz de 784 x 512 \n",
    "\n",
    "En total tenemos 784 x 512 = 401,408 valores de los pesos de inicio de la red\n",
    "\n",
    "Al salir de la primera capa, cada una de las 512 neuronas saca un resultado\n",
    "\n",
    "Asi tenemos a la salida de la primera capa un total de 401,920 valores\n",
    "\n",
    "( 784 x 512 ) + 512 = 401,408 + 512 =  401,920"
   ]
  },
  {
   "cell_type": "code",
   "execution_count": 44,
   "metadata": {},
   "outputs": [],
   "source": [
    "weight_origin=mi_modelo.layers[0].get_weights()[0]"
   ]
  },
  {
   "cell_type": "code",
   "execution_count": 45,
   "metadata": {},
   "outputs": [
    {
     "data": {
      "text/plain": [
       "(784, 512)"
      ]
     },
     "execution_count": 45,
     "metadata": {},
     "output_type": "execute_result"
    }
   ],
   "source": [
    "weight_origin.shape"
   ]
  },
  {
   "cell_type": "code",
   "execution_count": 46,
   "metadata": {},
   "outputs": [
    {
     "data": {
      "text/plain": [
       "array([[-0.06299968, -0.04182801, -0.06262244, ..., -0.04804396,\n",
       "        -0.02315671,  0.06025483],\n",
       "       [ 0.02204821, -0.00958952,  0.04111206, ...,  0.04233022,\n",
       "         0.06562877, -0.00214054],\n",
       "       [-0.04587858,  0.01275635,  0.01111619, ...,  0.051656  ,\n",
       "         0.06363802, -0.0100935 ],\n",
       "       ...,\n",
       "       [-0.00221618,  0.01616518, -0.03948038, ..., -0.02039685,\n",
       "        -0.0223934 , -0.02019854],\n",
       "       [ 0.01719376,  0.00613079,  0.02928239, ..., -0.03711984,\n",
       "         0.06508781,  0.04903734],\n",
       "       [ 0.01968163,  0.00888403, -0.05616226, ..., -0.03994714,\n",
       "         0.05227633, -0.00393517]], dtype=float32)"
      ]
     },
     "execution_count": 46,
     "metadata": {},
     "output_type": "execute_result"
    }
   ],
   "source": [
    "weight_origin"
   ]
  },
  {
   "cell_type": "markdown",
   "metadata": {},
   "source": [
    "# Resumen de la representación del modelo "
   ]
  },
  {
   "cell_type": "markdown",
   "metadata": {},
   "source": [
    "En keras se cuenta con una funcion que nos describe el modelo de la red neuronal indicando todas las capas y los \"pesos\" o parámetros que calcula\n",
    "\n",
    "mi_modelo.summary() despliega un resumen de la representación del modelo "
   ]
  },
  {
   "cell_type": "code",
   "execution_count": 47,
   "metadata": {},
   "outputs": [
    {
     "name": "stdout",
     "output_type": "stream",
     "text": [
      "Model: \"sequential_1\"\n",
      "_________________________________________________________________\n",
      "Layer (type)                 Output Shape              Param #   \n",
      "=================================================================\n",
      "dense_1 (Dense)              (None, 512)               401920    \n",
      "_________________________________________________________________\n",
      "dense_2 (Dense)              (None, 10)                5130      \n",
      "=================================================================\n",
      "Total params: 407,050\n",
      "Trainable params: 407,050\n",
      "Non-trainable params: 0\n",
      "_________________________________________________________________\n"
     ]
    }
   ],
   "source": [
    "mi_modelo.summary()"
   ]
  },
  {
   "cell_type": "markdown",
   "metadata": {},
   "source": [
    "El numero de parametros (Total params) es:  407,050 \n",
    "\n",
    "Este se calcula de la siguiente forma:\n",
    "Cada una de las 512 nueronas de inicio, recibe un vector de 784 coordenadas\n",
    "\n",
    "784 x 512 = 401,408\n",
    "\n",
    "512 + 401,408 = 401,920\n",
    "\n",
    "Cada una de las 10 neuronas de la segunda capa, recibe 512 parametros de la capa anterior\n",
    "\n",
    "En esta etapa tenemos 5120 valores\n",
    "\n",
    "10 x 512 = 5120\n",
    "\n",
    "A la salida de la segunda capa tenemos un vector de 10 valores, que representan la probabilidad \n",
    "\n",
    "Esta capa contribuye con 5130 valores\n",
    "\n",
    "10 + 5120 = 5130\n",
    "\n",
    "Al final tenemos un total de 407,050 valores\n",
    "\n",
    "401,920 + 5130 = 407,050"
   ]
  },
  {
   "cell_type": "markdown",
   "metadata": {},
   "source": [
    "## Compilación de la Red Neuronal\n",
    "\n",
    "Una vez definida la red, se debe compilar para su ejecución\n",
    "\n",
    "Se deben definir los parámetros de la compilación:\n",
    "\n",
    "**función de pérdida (loss function)**\n",
    "\n",
    "**método de optimización (optimizer)**\n",
    "\n",
    "**métrica (Metrics)**"
   ]
  },
  {
   "cell_type": "markdown",
   "metadata": {},
   "source": [
    "Una función de pérdida (loss), nos indica cómo la red neuronal mide el avance en cada iteración (epoch)\n",
    "\n",
    "Se cuenta con varios tipos de función de pérdida como:\n",
    "\n",
    "mean_squared_error\n",
    "\n",
    "mean_absolute_error\n",
    "\n",
    "mean_absolute_percentage_error\n",
    "\n",
    "mean_squared_logarithmic_error\n",
    "\n",
    "squared_hinge\n",
    "\n",
    "hinge\n",
    "\n",
    "categorical_hinge\n",
    "\n",
    "logcosh= logaritmo del coseno hiperbolico de la prediccion de error (Logarithm of the hyperbolic cosine of the prediction error)\n",
    "\n",
    "categorical_crossentropy\n",
    "\n",
    "sparse_categorical_crossentropy\n",
    "\n",
    "binary_crossentropy\n",
    "\n",
    "kullback_leibler_divergence\n",
    "\n",
    "poisson\n",
    "\n",
    "cosine_proximity\n",
    "\n",
    "\n",
    "\n",
    "Nota: Cuando usamos categorical_crossentropy loss, los objetivos deben estar en formato categórico (por ejemplo, si tiene 10 clases, el objetivo para cada muestra debe ser un vector de 10 dimensiones que sea todo ceros excepto un 1 en el índice correspondiente a la clase de la muestra). Para convertir objetivos enteros en objetivos categóricos, puede usar la Keras utility **to_categorical**\n",
    "\n",
    "\n",
    "\n",
    "## Función de optimización \"optimizador\" (optimizer) \n",
    "\n",
    "optimizer: String (name of optimizer) or optimizer instance. Un método o función de optimización (optimizer). Este es el método o mecanismo por medio del cual se lleva a cabo la optimización de la función de pérdida (loss function). \n",
    "\n",
    "Existe una gran diversidad:\n",
    "\n",
    "sdg=Gradiente estocástico de descenso (Stochastic gradient descent)\n",
    "\n",
    "RMSProp\n",
    "\n",
    "Adagrad\n",
    "\n",
    "Adadelta\n",
    "\n",
    "Adam\n",
    "\n",
    "Adamax \n",
    "\n",
    "Nadam=Nesterov Adam\n",
    "\n",
    "TFOptimizer=Clase Wrapper para optimizadores nativos TensorFlow\n",
    "\n",
    "\n",
    "\n",
    "## Métrica (metrics)\n",
    "\n",
    "métricas: Lista de métricas que evaluará el modelo durante la capacitación y las pruebas. Normalmente, se utilizan\n",
    "metrics=['accuracy']. Para especificar diferentes métricas para diferentes salidas de un modelo de múltiples salidas, también podría pasar un diccionario, como metrics={'output_a': 'accuracy'}\n",
    "\n",
    "Una metrica (metrics) monitorea o mide el desempeño en la etapa de construccion del modelo (training) y de evaluacion del modelo (evaluation). \n",
    "\n",
    "En el caso presente nos enfocamos a la precisión (accuracy), es decir el porcentaje de imagenes que fueron correctamente clasificadas  (the fraction of the images that were correctly classified).\n",
    "\n",
    "Medir el desempeño del modelo (performance of the model). \n",
    "\n",
    "\n",
    "Una función de  métrica es similar a la función de pérdida, excepto que el resultado no se utiliza en el entrenamiento del modelo, solo en la evaluación\n",
    "\n",
    "Se cuenta con diversas métricas existentes en keras. Se puede también indicar el nombre simbólico de una métrica en Theano/TensorFlow \n",
    "\n",
    "binary_accuracy\n",
    "\n",
    "categorical_accuracy\n",
    "\n",
    "sparse_categorical_accuracy\n",
    "\n",
    "top_k_categorical_accuracy\n",
    "\n",
    "sparse_top_k_categorical_accuracy\n",
    "\n"
   ]
  },
  {
   "cell_type": "code",
   "execution_count": 48,
   "metadata": {},
   "outputs": [],
   "source": [
    "mi_modelo.compile(optimizer='adam',\n",
    "                loss='categorical_crossentropy',\n",
    "                metrics=['accuracy'])"
   ]
  },
  {
   "cell_type": "markdown",
   "metadata": {},
   "source": [
    "### Función de optimización \"optimizador\" (optimizer)\n",
    "\n",
    "En el caso presente, se utiliza el optimizador <strong>adam</strong>\n",
    "\n",
    "Adam: Un método para la optimización estocástica Diederik Kingma, Jimmy Ba\n",
    "\n",
    "Referencia bibliográfica: https://arxiv.org/abs/1412.6980v8\n",
    "\n",
    "Publicado como documento de conferencia en la 3ra Conferencia Internacional para Representaciones de Aprendizaje, San Diego, 2015.\n",
    "\n",
    "**Adam**, es un algoritmo para la optimización basada en gradientes de primer orden de funciones objetivas estocásticas, basado en estimaciones adaptativas de momentos de orden inferior.\n",
    "\n",
    "El método es sencillo de implementar, es computacionalmente eficiente, tiene pocos requisitos de memoria, es invariante al reescalado diagonal de los gradientes y es adecuado para problemas grandes en términos de datos y / o parámetros.\n",
    "\n",
    "El método también es apropiado para objetivos no estacionarios y problemas con gradientes muy ruidosos y / o dispersos.\n",
    "\n",
    "Los hiper-parámetros tienen interpretaciones intuitivas y típicamente requieren poco ajuste.\n",
    "\n",
    "Los resultados empíricos demuestran que Adam funciona bien en la práctica y se compara favorablemente con otros métodos de optimización estocástica.\n"
   ]
  },
  {
   "cell_type": "markdown",
   "metadata": {},
   "source": [
    "# Utilización del modelo para la clasificación de imágenes"
   ]
  },
  {
   "cell_type": "markdown",
   "metadata": {},
   "source": [
    "Una vez definida la red, ya estamos listos para entrenar nuestra red, es decir obtener los parametros del modelo.\n",
    "\n",
    "En Keras esto se realiza a través de una llamada al método `fit`.\n",
    "\n",
    "fit\n",
    "\n",
    "Entrena el modelo con un numero fijo de epocas (epochs).\n",
    "\n",
    "fit\n",
    "\n",
    "fit(x=None, y=None, batch_size=None, epochs=1, verbose=1, callbacks=None, validation_split=0.0, validation_data=None, shuffle=True, class_weight=None, sample_weight=None, initial_epoch=0, steps_per_epoch=None, validation_steps=None, validation_freq=1)\n",
    "\n",
    "Trains the model for a given number of epochs (iterations on a dataset).\n"
   ]
  },
  {
   "cell_type": "markdown",
   "metadata": {},
   "source": [
    "\n",
    "## epochs\n",
    "\n",
    "Una época (epochs) es una iteración completa con un conjunto de datos.\n",
    "\n",
    "Número de épocas para entrenar el modelo.\n",
    "\n",
    "Tenga en cuenta que, junto con initial_epoch, las épocas deben entenderse como \"época final\".\n",
    "\n",
    "El modelo no está entrenado para una serie de iteraciones dadas por épocas, sino simplemente hasta que se alcanza la época de las épocas de índice.\n",
    "\n",
    "\n",
    "## batch_size\n",
    "\n",
    "Un tamaño de datos de entrada del lote de entrenamiento (batch_size) \t\n",
    "\n",
    "batch_size: Integer or None. Número de muestras por actualización de gradiente. Si no se especifica, batch_size will default to 32.\n",
    "\n",
    "El parametro (batch_size) es un entero o NULL (Integer or NULL). \n",
    "Este es un numero de ejemplos que se utilizan en actualizar el gradiente (samples per gradient update). \n",
    "Por omison, cuando no se especifica un tamaño del lote, se toma un valor de 32.\n",
    "\n",
    "Keras utiliza bibliotecas matemáticas simbólicas rápidas como backend, como TensorFlow y Theano.\n",
    "\n",
    "Una desventaja de usar estas bibliotecas es que la forma y el tamaño de sus datos deben definirse una vez por adelantado y mantenerse constantes, independientemente de si está entrenando su red o haciendo predicciones.\n",
    "\n",
    "En los problemas de predicción de secuencia, puede ser conveniente usar un tamaño de lote grande cuando se entrena en la red y un tamaño de lote de 1 al hacer predicciones para predecir el siguiente paso en la secuencia.\n",
    "\n",
    "Un beneficio de usar Keras es que está construido sobre bibliotecas matemáticas simbólicas como TensorFlow y Theano para un cálculo rápido y eficiente. Esto es necesario con grandes redes neuronales.\n",
    "\n",
    "Una desventaja de usar estas bibliotecas eficientes es que debe definir el alcance de sus datos por adelantado y para siempre. En concreto, el tamaño del lote.\n",
    "\n",
    "El tamaño del lote limita el número de muestras que se mostrarán a la red antes de que se pueda realizar una actualización de peso. Esta misma limitación se impone cuando se hacen predicciones con el modelo de ajuste.\n",
    "\n",
    "Específicamente, el tamaño del lote utilizado al ajustar su modelo controla la cantidad de predicciones que debe realizar a la vez.\n",
    "\n",
    "A menudo, esto no es un problema cuando desea hacer las mismas predicciones de números a la vez que el tamaño del lote utilizado durante el entrenamiento.\n",
    "\n",
    "Esto se convierte en un problema cuando desea hacer menos predicciones que el tamaño del lote. Por ejemplo, puede obtener los mejores resultados con un tamaño de lote grande, pero se requiere que haga predicciones para una observación a la vez en algo como una serie de tiempo o un problema de secuencia.\n",
    "\n",
    "Esta es la razón por la cual puede ser conveniente tener un tamaño de lote diferente al ajustar la red a los datos de entrenamiento que al hacer predicciones sobre datos de prueba o nuevos datos de entrada.\n",
    "\n"
   ]
  },
  {
   "cell_type": "markdown",
   "metadata": {},
   "source": [
    "fit\n",
    "\n",
    "fit(x=None, y=None, batch_size=None, epochs=1, verbose=1, callbacks=None, validation_split=0.0, validation_data=None, shuffle=True, class_weight=None, sample_weight=None, initial_epoch=0, steps_per_epoch=None, validation_steps=None, validation_freq=1)\n",
    "\n",
    "Trains the model for a given number of epochs (iterations on a dataset).\n",
    "\n",
    "\n",
    "evaluation_images_serializada_normalizada , evaluation_labels_normalizada"
   ]
  },
  {
   "cell_type": "code",
   "execution_count": 49,
   "metadata": {},
   "outputs": [
    {
     "name": "stdout",
     "output_type": "stream",
     "text": [
      "WARNING:tensorflow:From /home/saXsa/anaconda3/envs/keras/lib/python3.7/site-packages/tensorflow/python/ops/math_ops.py:3066: to_int32 (from tensorflow.python.ops.math_ops) is deprecated and will be removed in a future version.\n",
      "Instructions for updating:\n",
      "Use tf.cast instead.\n",
      "Train on 60000 samples, validate on 10000 samples\n",
      "Epoch 1/3\n",
      "60000/60000 [==============================] - 19s 312us/step - loss: 0.2718 - acc: 0.9237 - val_loss: 0.1304 - val_acc: 0.9621\n",
      "Epoch 2/3\n",
      "60000/60000 [==============================] - 17s 291us/step - loss: 0.1085 - acc: 0.9685 - val_loss: 0.0904 - val_acc: 0.9711\n",
      "Epoch 3/3\n",
      "60000/60000 [==============================] - 18s 296us/step - loss: 0.0705 - acc: 0.9794 - val_loss: 0.0704 - val_acc: 0.9782\n"
     ]
    }
   ],
   "source": [
    "historico = mi_modelo.fit(train_images_serializada_normalizada, train_labels_normalizada,  validation_data=(evaluation_images_serializada_normalizada , evaluation_labels_normalizada) , epochs=3, batch_size=128)"
   ]
  },
  {
   "cell_type": "markdown",
   "metadata": {},
   "source": [
    "En todo desarrollo es muy importante poder analizar el desempeño del modelo durante toda la etapa de generacion. (You can learn a lot about neural networks and deep learning models by observing their performance over time during training.)\n",
    "\n",
    "Keras es una poderosa biblioteca Python que ofrece una interfaz para la creacion de modelos de Aprendizaje Profundo y engloba en una capa de alto nivel los aspectos detallados de TensorFlow. (Keras is useful for creating deep learning models and wraps the more technical TensorFlow backend.)\n",
    "\n",
    "Con la herramienta history en keras se puede analizar y visualizar el desempeño de modelos de Deep Learning en Keras (you can review and visualize the performance of deep learning models over time during the training)."
   ]
  },
  {
   "cell_type": "code",
   "execution_count": 50,
   "metadata": {},
   "outputs": [
    {
     "data": {
      "text/plain": [
       "dict_keys(['val_loss', 'val_acc', 'loss', 'acc'])"
      ]
     },
     "execution_count": 50,
     "metadata": {},
     "output_type": "execute_result"
    }
   ],
   "source": [
    "history_dict = historico.history\n",
    "history_dict.keys()"
   ]
  },
  {
   "cell_type": "markdown",
   "metadata": {},
   "source": [
    "Keras provides the capability to register callbacks when training a deep learning model.\n",
    "\n",
    "One of the default callbacks that is registered when training all deep learning models is the History callback. \n",
    "\n",
    "It records training metrics for each epoch. \n",
    "\n",
    "This includes the loss and the accuracy (for classification problems) as well as the loss and accuracy for the validation dataset, if one is set.\n",
    "\n",
    "The history object is returned from calls to the fit() function used to train the model. \n",
    "\n",
    "Metrics are stored in a dictionary in the history member of the object returned.\n",
    "\n",
    "For example, you can list the metrics collected in a history object \n",
    "\n",
    "\n",
    "History\n",
    "\n",
    "keras.callbacks.History()\n",
    "\n",
    "Callback that records events into a History object.\n",
    "\n",
    "This callback is automatically applied to every Keras model. The History object gets returned by the fit method of models."
   ]
  },
  {
   "cell_type": "code",
   "execution_count": 51,
   "metadata": {},
   "outputs": [
    {
     "name": "stdout",
     "output_type": "stream",
     "text": [
      "dict_keys(['val_loss', 'val_acc', 'loss', 'acc'])\n"
     ]
    }
   ],
   "source": [
    "# list all data in history\n",
    "print(historico.history.keys())"
   ]
  },
  {
   "cell_type": "markdown",
   "metadata": {},
   "source": [
    "We can use the data collected in the history object to create plots.\n",
    "\n",
    "The plots can provide an indication of useful things about the training of the model, such as:\n",
    "\n",
    "    It’s speed of convergence over epochs (slope).\n",
    "    Whether the model may have already converged (plateau of the line).\n",
    "    Whether the mode may be over-learning the training data (inflection for validation line).\n",
    "\n"
   ]
  },
  {
   "cell_type": "markdown",
   "metadata": {},
   "source": [
    "### Visualizar el  desempeño (precisión y pérdida) por época Modelo con herramienta History de Keras\n",
    "\n",
    "Se puede generar una grafica que muestra la precisión en el entrenamiento (acc) y en la evaluacion (val_acc)\n",
    "\n"
   ]
  },
  {
   "cell_type": "code",
   "execution_count": 52,
   "metadata": {},
   "outputs": [
    {
     "data": {
      "image/png": "[encoded data removed]",
      "text/plain": [
       "<Figure size 432x288 with 1 Axes>"
      ]
     },
     "metadata": {
      "needs_background": "light"
     },
     "output_type": "display_data"
    }
   ],
   "source": [
    "# grafica precision entrenamiento VS evaluacion\n",
    "plt.plot(historico.history['acc'])\n",
    "plt.plot(historico.history['val_acc'])\n",
    "plt.title('precisión  del modelo (train vs eval)')\n",
    "plt.ylabel('accuracy')\n",
    "plt.xlabel('época')\n",
    "plt.legend(['precisión (acc) train', 'evaluación (val_acc) eval'], loc='upper left')\n",
    "plt.show()"
   ]
  },
  {
   "cell_type": "markdown",
   "metadata": {},
   "source": [
    "Se puede generar una grafica que muestra el error o pérdida en el entrenamiento (loss) y en la evaluacion (val_loss)\n"
   ]
  },
  {
   "cell_type": "code",
   "execution_count": 53,
   "metadata": {},
   "outputs": [
    {
     "data": {
      "image/png": "[encoded data removed]",
      "text/plain": [
       "<Figure size 432x288 with 1 Axes>"
      ]
     },
     "metadata": {
      "needs_background": "light"
     },
     "output_type": "display_data"
    }
   ],
   "source": [
    "# grafica precision entrenamiento VS evaluacion\n",
    "plt.plot(historico.history['loss'])\n",
    "plt.plot(historico.history['val_loss'])\n",
    "plt.title('pérdida del modelo (train vs eval)')\n",
    "plt.ylabel('pérdida')\n",
    "plt.xlabel('época')\n",
    "plt.legend(['modelo (loss) train', 'evaluación (loss_acc) eval'], loc='upper left')\n",
    "plt.show()"
   ]
  },
  {
   "cell_type": "markdown",
   "metadata": {},
   "source": [
    "En la etapa de entrenamiento realizada por medio de dos cantidades durante el entrenamiento: la \"pérdida\" de la red sobre los datos de entrenamiento y la precisión de la red sobre los datos de entrenamiento.\n",
    "\n",
    "Rápidamente alcanzamos una precisión de 0.989 (es decir, 98.9%) en los datos de entrenamiento. Ahora comprobemos que nuestro modelo también funciona bien en el conjunto de prueba:"
   ]
  },
  {
   "cell_type": "markdown",
   "metadata": {},
   "source": [
    "model.to_json() returns a representation of the model as a JSON string. \n",
    "\n",
    "Note that the representation does not include the weights, only the architecture."
   ]
  },
  {
   "cell_type": "code",
   "execution_count": 54,
   "metadata": {},
   "outputs": [
    {
     "data": {
      "text/plain": [
       "'{\"class_name\": \"Sequential\", \"config\": {\"name\": \"sequential_1\", \"layers\": [{\"class_name\": \"Dense\", \"config\": {\"name\": \"dense_1\", \"trainable\": true, \"batch_input_shape\": [null, 784], \"dtype\": \"float32\", \"units\": 512, \"activation\": \"relu\", \"use_bias\": true, \"kernel_initializer\": {\"class_name\": \"VarianceScaling\", \"config\": {\"scale\": 1.0, \"mode\": \"fan_avg\", \"distribution\": \"uniform\", \"seed\": null}}, \"bias_initializer\": {\"class_name\": \"Zeros\", \"config\": {}}, \"kernel_regularizer\": null, \"bias_regularizer\": null, \"activity_regularizer\": null, \"kernel_constraint\": null, \"bias_constraint\": null}}, {\"class_name\": \"Dense\", \"config\": {\"name\": \"dense_2\", \"trainable\": true, \"dtype\": \"float32\", \"units\": 10, \"activation\": \"softmax\", \"use_bias\": true, \"kernel_initializer\": {\"class_name\": \"VarianceScaling\", \"config\": {\"scale\": 1.0, \"mode\": \"fan_avg\", \"distribution\": \"uniform\", \"seed\": null}}, \"bias_initializer\": {\"class_name\": \"Zeros\", \"config\": {}}, \"kernel_regularizer\": null, \"bias_regularizer\": null, \"activity_regularizer\": null, \"kernel_constraint\": null, \"bias_constraint\": null}}]}, \"keras_version\": \"2.2.5\", \"backend\": \"tensorflow\"}'"
      ]
     },
     "execution_count": 54,
     "metadata": {},
     "output_type": "execute_result"
    }
   ],
   "source": [
    "from keras.models import model_from_json\n",
    "\n",
    "json_string = mi_modelo.to_json()\n",
    "\n",
    "json_string"
   ]
  },
  {
   "cell_type": "markdown",
   "metadata": {},
   "source": [
    "Keras es una biblioteca de Python simple y poderosa para el aprendizaje profundo.\n",
    "\n",
    "Dado que los modelos de aprendizaje profundo pueden tomar horas, días e incluso semanas para entrenarse, es importante saber cómo guardarlos y cargarlos desde el disco.\n",
    "\n",
    "Keras separa las preocupaciones de guardar la arquitectura de su modelo y guardar los pesos de su modelo.\n",
    "\n",
    "Los pesos de los modelos se guardan en formato HDF5. Este es un formato de cuadrícula que es ideal para almacenar matrices de números multidimensionales.\n",
    "\n",
    "La estructura del modelo se puede describir y guardar utilizando dos formatos diferentes: JSON y YAML.\n",
    "\n",
    "JSON es un formato de archivo simple para describir datos jerárquicamente.\n",
    "\n",
    "Keras proporciona la capacidad de describir cualquier modelo utilizando el formato JSON con una función to_json (). Esto se puede guardar en un archivo y luego cargarse a través de la función model_from_json () que creará un nuevo modelo a partir de la especificación JSON.\n",
    "\n",
    "Los pesos se guardan directamente del modelo usando la función save_weights () y luego se cargan usando la función simétrica load_weights ().\n",
    "\n"
   ]
  },
  {
   "cell_type": "code",
   "execution_count": 55,
   "metadata": {},
   "outputs": [
    {
     "data": {
      "text/plain": [
       "datetime.datetime(2019, 11, 27, 22, 46, 22, 595141)"
      ]
     },
     "execution_count": 55,
     "metadata": {},
     "output_type": "execute_result"
    }
   ],
   "source": [
    "from datetime import datetime\n",
    "# current date and time\n",
    "now = datetime.now()\n",
    "now"
   ]
  },
  {
   "cell_type": "code",
   "execution_count": 56,
   "metadata": {},
   "outputs": [
    {
     "data": {
      "text/plain": [
       "'20191127224622'"
      ]
     },
     "execution_count": 56,
     "metadata": {},
     "output_type": "execute_result"
    }
   ],
   "source": [
    "ahorita = now.strftime(\"%Y%m%d%H%M%S\")\n",
    "ahorita"
   ]
  },
  {
   "cell_type": "code",
   "execution_count": 57,
   "metadata": {},
   "outputs": [
    {
     "data": {
      "text/plain": [
       "'ggCapLibro2_1_MiPrimeraRedNeuronal_20191127224622.json'"
      ]
     },
     "execution_count": 57,
     "metadata": {},
     "output_type": "execute_result"
    }
   ],
   "source": [
    "MiArchivoJSON = 'ggCapLibro2_1_MiPrimeraRedNeuronal_' + ahorita + '.json'\n",
    "MiArchivoJSON"
   ]
  },
  {
   "cell_type": "code",
   "execution_count": 58,
   "metadata": {},
   "outputs": [
    {
     "data": {
      "text/plain": [
       "'ggCapLibro2_1_MiPrimeraRedNeuronal_20191127224622.h5'"
      ]
     },
     "execution_count": 58,
     "metadata": {},
     "output_type": "execute_result"
    }
   ],
   "source": [
    "MiArchivoPesosH5 = 'ggCapLibro2_1_MiPrimeraRedNeuronal_' + ahorita + '.h5'\n",
    "MiArchivoPesosH5"
   ]
  },
  {
   "cell_type": "code",
   "execution_count": 59,
   "metadata": {},
   "outputs": [
    {
     "name": "stdout",
     "output_type": "stream",
     "text": [
      "Almacenado del modelo JSON a disco \n",
      "total 240\r\n",
      "-rw-r--r-- 1 saXsa saXsa 136381 nov 27 22:44 gg20191127_MiPrimeraRedNeuronal_ClasificacionDigitosManuscritos.ipynb\r\n",
      "-rw-rw-r-- 1 saXsa saXsa   1137 nov 27 22:46 ggCapLibro2_1_MiPrimeraRedNeuronal_20191127224622.json\r\n",
      "-rw-rw-rw- 6 saXsa saXsa  83606 nov  8 19:10 jquery.min.js\r\n",
      "-rw-rw-rw- 6 saXsa saXsa  15209 nov  8 19:09 require.min.js\r\n"
     ]
    }
   ],
   "source": [
    "with open(MiArchivoJSON, \"w\") as json_file:\n",
    "    json_file.write(json_string)\n",
    "\n",
    "print(\"Almacenado del modelo JSON a disco \")\n",
    "\n",
    "!ls -l \n"
   ]
  },
  {
   "cell_type": "markdown",
   "metadata": {},
   "source": [
    "Si deseamos almacenar los pesos del modelo (weights of a model) en formato HDF5, tenemos la funcion keras \n",
    "\n"
   ]
  },
  {
   "cell_type": "code",
   "execution_count": 60,
   "metadata": {},
   "outputs": [
    {
     "name": "stdout",
     "output_type": "stream",
     "text": [
      "Almacenado de los pesos a disco \n",
      "total 1896\r\n",
      "-rw-r--r-- 1 saXsa saXsa  189680 nov 27 22:46 gg20191127_MiPrimeraRedNeuronal_ClasificacionDigitosManuscritos.ipynb\r\n",
      "-rw-rw-r-- 1 saXsa saXsa 1640488 nov 27 22:46 ggCapLibro2_1_MiPrimeraRedNeuronal_20191127224622.h5\r\n",
      "-rw-rw-r-- 1 saXsa saXsa    1137 nov 27 22:46 ggCapLibro2_1_MiPrimeraRedNeuronal_20191127224622.json\r\n",
      "-rw-rw-rw- 6 saXsa saXsa   83606 nov  8 19:10 jquery.min.js\r\n",
      "-rw-rw-rw- 6 saXsa saXsa   15209 nov  8 19:09 require.min.js\r\n"
     ]
    }
   ],
   "source": [
    "# serialize weights to HDF5\n",
    "mi_modelo.save_weights(MiArchivoPesosH5)\n",
    "print(\"Almacenado de los pesos a disco \")\n",
    "\n",
    "!ls -l "
   ]
  },
  {
   "cell_type": "code",
   "execution_count": 61,
   "metadata": {},
   "outputs": [
    {
     "name": "stdout",
     "output_type": "stream",
     "text": [
      "gg20191127_MiPrimeraRedNeuronal_ClasificacionDigitosManuscritos.ipynb\n",
      "ggCapLibro2_1_MiPrimeraRedNeuronal_20191127224622.h5\n",
      "ggCapLibro2_1_MiPrimeraRedNeuronal_20191127224622.json\n",
      "jquery.min.js\n",
      "require.min.js\n",
      "\n"
     ]
    }
   ],
   "source": [
    "print(check_output([\"ls\", \".\"]).decode(\"utf8\"))"
   ]
  },
  {
   "cell_type": "markdown",
   "metadata": {},
   "source": [
    "### Uso del modelo y pesos para realizar predicciones en datos nuevos\n",
    "\n",
    "Once you choose and fit a final deep learning model in Keras, you can use it to make predictions on new data instances.\n",
    "\n",
    "\n",
    "Classification problems are those where the model learns a mapping between input features and an output feature that is a label, such as “spam” and “not spam“."
   ]
  },
  {
   "cell_type": "markdown",
   "metadata": {},
   "source": [
    "We can predict the class for new data instances using our finalized classification model in Keras using the predict_classes() function. Note that this function is only available on Sequential models, not those models developed using the functional API.\n",
    "\n",
    "For example, we have one or more data instances in an array called Xnew. This can be passed to the predict_classes() function on our model in order to predict the class values for each instance in the array."
   ]
  },
  {
   "cell_type": "markdown",
   "metadata": {},
   "source": [
    "predict\n",
    "\n",
    "predict(self, x, batch_size=32, verbose=0)\n",
    "\n",
    "Generates output predictions for the input samples, processing the samples in a batched way.\n",
    "\n",
    "Arguments\n",
    "\n",
    "    x: the input data, as a Numpy array.\n",
    "    batch_size: integer.\n",
    "    verbose: verbosity mode, 0 or 1.\n",
    "\n",
    "Returns\n",
    "\n",
    "A Numpy array of predictions."
   ]
  },
  {
   "cell_type": "markdown",
   "metadata": {},
   "source": [
    "predict_classes\n",
    "\n",
    "predict_classes(self, x, batch_size=32, verbose=1)\n",
    "\n",
    "Generate class predictions for the input samples batch by batch.\n",
    "\n",
    "Arguments\n",
    "\n",
    "    x: input data, as a Numpy array or list of Numpy arrays (if the model has multiple inputs).\n",
    "    batch_size: integer.\n",
    "    verbose: verbosity mode, 0 or 1.\n",
    "\n"
   ]
  },
  {
   "cell_type": "code",
   "execution_count": 63,
   "metadata": {},
   "outputs": [
    {
     "data": {
      "image/png": "[encoded data removed]",
      "text/plain": [
       "<Figure size 432x288 with 2 Axes>"
      ]
     },
     "metadata": {
      "needs_background": "light"
     },
     "output_type": "display_data"
    }
   ],
   "source": [
    "# La matriz de confusión\n",
    "# \n",
    "def plot_confusion_matrix(cm, classes,\n",
    "                          normalize=False,\n",
    "                          title='Matiz de Confusión',\n",
    "                          cmap=plt.cm.Blues):\n",
    "    \"\"\"\n",
    "    This function prints and plots the confusion matrix.\n",
    "    Normalization can be applied by setting `normalize=True`.\n",
    "    \"\"\"\n",
    "    plt.imshow(cm, interpolation='nearest', cmap=cmap)\n",
    "    plt.title(title)\n",
    "    plt.colorbar()\n",
    "    tick_marks = np.arange(len(classes))\n",
    "    plt.xticks(tick_marks, classes, rotation=45)\n",
    "    plt.yticks(tick_marks, classes)\n",
    "\n",
    "    if normalize:\n",
    "        cm = cm.astype('float') / cm.sum(axis=1)[:, np.newaxis]\n",
    "\n",
    "    thresh = cm.max() / 2.\n",
    "    for i, j in itertools.product(range(cm.shape[0]), range(cm.shape[1])):\n",
    "        plt.text(j, i, cm[i, j],\n",
    "                 horizontalalignment=\"center\",\n",
    "                 color=\"white\" if cm[i, j] > thresh else \"black\")\n",
    "\n",
    "    plt.tight_layout()\n",
    "    plt.ylabel('Etiqueta real (True label)')\n",
    "    plt.xlabel('Etiqueta predicción (Predicted label)')\n",
    "\n",
    "    \n",
    "    \n",
    "### evaluation_images_serializada_normalizada , evaluation_labels_normalizada\n",
    "    \n",
    "# Predict the values from the validation dataset\n",
    "Y_pred = mi_modelo.predict(train_images_serializada_normalizada)\n",
    "\n",
    "# Convert predictions classes to one hot vectors \n",
    "Y_pred_classes = np.argmax( evaluation_labels_normalizada, axis = 1) \n",
    "\n",
    "\n",
    "# Convert validation observations to one hot vectors\n",
    "Y_true = np.argmax( evaluation_labels_normalizada, axis = 1) \n",
    "\n",
    "# compute the confusion matrix\n",
    "confusion_mtx = confusion_matrix(Y_true, Y_pred_classes) \n",
    "\n",
    "\n",
    "# plot the confusion matrix\n",
    "plot_confusion_matrix(confusion_mtx, classes = range(10))"
   ]
  },
  {
   "cell_type": "code",
   "execution_count": null,
   "metadata": {},
   "outputs": [],
   "source": []
  }
 ],
 "metadata": {
  "kernelspec": {
   "display_name": "Python 3",
   "language": "python",
   "name": "python3"
  },
  "language_info": {
   "codemirror_mode": {
    "name": "ipython",
    "version": 3
   },
   "file_extension": ".py",
   "mimetype": "text/x-python",
   "name": "python",
   "nbconvert_exporter": "python",
   "pygments_lexer": "ipython3",
   "version": "3.7.4"
  }
 },
 "nbformat": 4,
 "nbformat_minor": 2
}
