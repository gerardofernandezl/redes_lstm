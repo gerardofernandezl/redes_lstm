{
 "cells": [
  {
   "cell_type": "markdown",
   "metadata": {},
   "source": [
    "##### Título: Regresión Lineal Multivariada: Método de la Matriz Inversa\n",
    "##### Fecha: 20191108\n",
    "##### Autor: Dr. Gabriel Guerrero\n",
    "##### Referencia: gg20191108_RegresionLinealMultivariada_MetodoMatrizInversa.ipynb\n",
    "\n",
    "Este ejercicio explora cómo realizar una regresión lineal multivariada con TensorFlow utilizando la representación del problema por matrices, conocido como representacion de la matriz inversa.\n",
    "\n",
    "Supongamos que tenemos datos de medición de n registros (por ejemplo, créditos) con F características o medidas en cada uno de los n registros.\n",
    "\n",
    "Por ejemplo, tenemos 50 millones de créditos y en cada crédito medimos 10 características numéricas, montos o tasas de interés. \n",
    "\n",
    "En este caso, n=50,000,000 y F=10\n",
    "\n",
    "El problema es determinar un modelo matemático que mejor aproxime la ubicación de los puntos.\n",
    "\n",
    "Este es el problema tradicional de la regresión lineal multivariada.\n",
    "\n",
    "Para resolver este problema se calcula en cada uno de los n puntos la distancia al hiperplano de dimensión F. \n",
    "\n",
    "Si F=1 es la regresion lineal de puntos y la recta, si F=2 es la regresión lineal de puntos y el plano, ....\n",
    "\n",
    "Sin entrar en detalles matemáticos de la minimización de la función de error y la derivada por cada variable de esta función, denominado Gradiente, este problema es equivalente a la ecuación lineal con matrices siguiente:\n",
    "\n",
    "Dado el sistema $ A \\cdot x = y $, la forma inversa de matriz de regresión lineal multivariada se resolve para x de la siguiente manera:\n",
    "\n",
    "$$x = \\left( A^{T} \\cdot A \\right)^{-1} \\cdot A^{T} \\cdot y$$\n",
    "\n",
    "Como recordatorio aquí, $x$ es nuestra matriz de parámetros (vector de longitud $F+1$, donde $F$ es el número de características y es el número de muestras). Aquí, $A$, nuestro diseño de la matriz toma forma.\n",
    "\n",
    "$$\n",
    "A=\n",
    "\\begin{bmatrix}\n",
    "    1 & x_{11} & x_{12} & \\dots  & x_{1F} \\\\\n",
    "    1 & x_{21} & x_{22} & \\dots  & x_{2F} \\\\\n",
    "    \\vdots & \\vdots & \\vdots & \\ddots & \\vdots \\\\\n",
    "    1 & x_{n1} & x_{n2} & \\dots  & x_{nF}\n",
    "\\end{bmatrix}\n",
    "$$\n",
    "\n",
    "Donde $F$ es el número de características independientes, y $n$ es el número de puntos. Para un sistema sobredeterminado, $n>F$. Recuerde que un punto observado en nuestro sistema tendrá una longitud de $F+1$ y el punto $i^{th}$ se verá como\n",
    "\n",
    "$$point_{i} = \\left( y_{i}, x_{i1}, x_{i2}, \\dots, x_{iF} \\right)$$\n",
    "\n",
    "Para este ejemplo, consideraremos sólo un sistema bidimensional ($F=1$), de modo que podamos trazar los resultados al final en una gráfica.\n",
    "\n",
    "La metodología que utilizamos contiene los siguientes pasos:\n",
    "\n",
    "### Metodología: \n",
    "\n",
    "#### Paso 1: Cargar bibliotecas del ambiente Python\n",
    "\n",
    "#### Paso 2: Cargar bibliotecas del ambiente TensorFlow\n",
    "\n",
    "#### Paso 3: Prender la Máquina Tensorial del ambiente TensorFlow\n",
    "\n",
    "#### Paso 4: Leer los datos del problema\n",
    "\n",
    "#### Paso 5: Preparación de los datos del problema, en su forma Matricial\n",
    "\n",
    "#### Paso 6: Meter los datos del problema a la Máquina de Cálculo TensorFlow\n",
    "\n",
    "#### Paso 7: Definir el problema por medio de cálculos por realizar en la Máquina de Cálculo TensorFlow\n",
    "\n",
    "#### Paso 8: Ejecutar los cálculos por medio de la Máquina de Cálculo TensorFlow\n",
    "\n",
    "#### Paso 9: Extraer los resultados de los cálculos generados por la Máquina de Cálculo TensorFlow\n",
    "\n",
    "#### Paso 10: Desplegar los resultados de los cálculos generados por la Máquina de Cálculo TensorFlow\n",
    "\n"
   ]
  },
  {
   "cell_type": "markdown",
   "metadata": {},
   "source": [
    "#### Paso 1: Cargar bibliotecas del ambiente Python\n",
    "\n",
    "Comenzamos cargando las bibliotecas necesarias."
   ]
  },
  {
   "cell_type": "code",
   "execution_count": 1,
   "metadata": {},
   "outputs": [],
   "source": [
    "import warnings\n",
    "warnings.filterwarnings('ignore')\n",
    "\n",
    "import matplotlib.pyplot as plt\n",
    "import numpy as np\n"
   ]
  },
  {
   "cell_type": "markdown",
   "metadata": {},
   "source": [
    "#### Paso 2: Cargar bibliotecas del ambiente TensorFlow\n",
    "\n",
    "En ambiente TensorFlow es una máquina de cálculo matricial ofrecida desde 2015  por Google\n"
   ]
  },
  {
   "cell_type": "code",
   "execution_count": 2,
   "metadata": {},
   "outputs": [],
   "source": [
    "import tensorflow as tf\n",
    "from tensorflow.python.framework import ops\n",
    "ops.reset_default_graph()"
   ]
  },
  {
   "cell_type": "markdown",
   "metadata": {},
   "source": [
    "#### Paso 3: Prender la Máquina Tensorial del ambiente TensorFlow\n",
    "\n",
    "A continuación comenzamos una sesión del grafo que genera la Máquina Tensorial TensorFlow."
   ]
  },
  {
   "cell_type": "code",
   "execution_count": 3,
   "metadata": {},
   "outputs": [],
   "source": [
    "sess = tf.Session()"
   ]
  },
  {
   "cell_type": "markdown",
   "metadata": {},
   "source": [
    "Para fines de ilustración, se generan  datos al azar como puntos para encontrar la mejor recta, es decir estamos en el problema regresión lineal simple.\n",
    "\n",
    "Tenemos n=100 y F=1. Es decir, tenemos 100 medidas de un fenómeno y queremos encontrar la mejor aproximación por medio de una recta, en donde el error global, se define como la suma de los errores en cada punto. Deseamos que el error global sea el menor. "
   ]
  },
  {
   "cell_type": "markdown",
   "metadata": {},
   "source": [
    "#### Paso 4: Leer los datos del problema\n",
    "\n",
    "En este ejemplo, se generan 100 valores de forma aleatoria.\n",
    "\n",
    "Los valores de x serán una secuencia de 100 valores espaciados uniformemente entre 0 y 100.\n",
    "\n"
   ]
  },
  {
   "cell_type": "markdown",
   "metadata": {},
   "source": [
    "#### Crear los datos de forma aleatoria \n",
    "#### Se utilizan herramientas de Python y su biblioteca Numpy\n",
    "\n",
    "Para la generacion de las muestras x utilizamos la función:\n",
    "\n",
    "numpy.linspace(start, stop, num=50, endpoint=True, retstep=False, dtype=None, axis=0)\n",
    "\n",
    "\n",
    "Regresa num  muestras dentro del  intervalo (start, stop). En el caso presente, deseamos 100 muestras en el intervalo (10, 100)\n",
    "\n",
    "Para las muestras de y utilizamos una distribución normal\n",
    "\n",
    "numpy.random.normal(loc=0.0, scale=1.0, size=None)\n",
    "\n"
   ]
  },
  {
   "cell_type": "code",
   "execution_count": 4,
   "metadata": {},
   "outputs": [],
   "source": [
    "x_vals = np.linspace(0, 10, 100)\n",
    "y_vals = x_vals + np.random.normal(0, 1, 100)"
   ]
  },
  {
   "cell_type": "code",
   "execution_count": 5,
   "metadata": {},
   "outputs": [
    {
     "data": {
      "text/plain": [
       "(100,)"
      ]
     },
     "execution_count": 5,
     "metadata": {},
     "output_type": "execute_result"
    }
   ],
   "source": [
    "x_vals\n",
    "x_vals.shape"
   ]
  },
  {
   "cell_type": "code",
   "execution_count": 6,
   "metadata": {},
   "outputs": [
    {
     "data": {
      "text/plain": [
       "(100,)"
      ]
     },
     "execution_count": 6,
     "metadata": {},
     "output_type": "execute_result"
    }
   ],
   "source": [
    "y_vals\n",
    "y_vals.shape"
   ]
  },
  {
   "cell_type": "markdown",
   "metadata": {},
   "source": [
    "Se muestran graficamente los datos del problema de la regresión lineal simple"
   ]
  },
  {
   "cell_type": "code",
   "execution_count": 7,
   "metadata": {},
   "outputs": [
    {
     "data": {
      "image/png": "[encoded data removed]",
      "text/plain": [
       "<Figure size 432x288 with 1 Axes>"
      ]
     },
     "metadata": {
      "needs_background": "light"
     },
     "output_type": "display_data"
    }
   ],
   "source": [
    "# Mostrar los datos de la muestra gráficamente\n",
    "plt.plot(x_vals, y_vals, 'o', label='Datos muestra')\n",
    "plt.legend(loc='upper left')\n",
    "plt.show()"
   ]
  },
  {
   "cell_type": "markdown",
   "metadata": {},
   "source": [
    "#### Paso 5: Preparación de los datos del problema, en su forma Matricial"
   ]
  },
  {
   "cell_type": "markdown",
   "metadata": {},
   "source": [
    "Creamos la matriz de diseño $A$, que será una columna de unos y los valores de x."
   ]
  },
  {
   "cell_type": "code",
   "execution_count": 8,
   "metadata": {},
   "outputs": [],
   "source": [
    "# Crear matriz de diseño\n",
    "x_vals_column = np.transpose(np.matrix(x_vals))\n",
    "ones_column = np.transpose(np.matrix(np.repeat(1, 100)))\n",
    "A = np.column_stack((x_vals_column, ones_column))"
   ]
  },
  {
   "cell_type": "code",
   "execution_count": 9,
   "metadata": {},
   "outputs": [
    {
     "data": {
      "text/plain": [
       "(100, 1)"
      ]
     },
     "execution_count": 9,
     "metadata": {},
     "output_type": "execute_result"
    }
   ],
   "source": [
    "x_vals_column.shape"
   ]
  },
  {
   "cell_type": "code",
   "execution_count": 10,
   "metadata": {},
   "outputs": [
    {
     "data": {
      "text/plain": [
       "(100, 2)"
      ]
     },
     "execution_count": 10,
     "metadata": {},
     "output_type": "execute_result"
    }
   ],
   "source": [
    "A.shape"
   ]
  },
  {
   "cell_type": "markdown",
   "metadata": {},
   "source": [
    "Ahora creamos los valores de y como una matriz con Numpy.\n",
    "\n",
    "Una vez que tenemos los valores de y y la matriz de diseño, creamos tensores a partir de ellos."
   ]
  },
  {
   "cell_type": "code",
   "execution_count": 11,
   "metadata": {},
   "outputs": [],
   "source": [
    "y = np.transpose(np.matrix(y_vals))"
   ]
  },
  {
   "cell_type": "code",
   "execution_count": 12,
   "metadata": {},
   "outputs": [
    {
     "data": {
      "text/plain": [
       "(100, 1)"
      ]
     },
     "execution_count": 12,
     "metadata": {},
     "output_type": "execute_result"
    }
   ],
   "source": [
    "y.shape"
   ]
  },
  {
   "cell_type": "markdown",
   "metadata": {},
   "source": [
    "#### Paso 6: Meter los datos del problema a la Máquina de Cálculo TensorFlow"
   ]
  },
  {
   "cell_type": "code",
   "execution_count": 13,
   "metadata": {},
   "outputs": [],
   "source": [
    "# Crear los tensores en TensorFlow\n",
    "A_tensor = tf.constant(A)\n",
    "y_tensor = tf.constant(y)"
   ]
  },
  {
   "cell_type": "code",
   "execution_count": 14,
   "metadata": {},
   "outputs": [
    {
     "data": {
      "text/plain": [
       "TensorShape([Dimension(100), Dimension(2)])"
      ]
     },
     "execution_count": 14,
     "metadata": {},
     "output_type": "execute_result"
    }
   ],
   "source": [
    "A_tensor.shape"
   ]
  },
  {
   "cell_type": "code",
   "execution_count": 15,
   "metadata": {},
   "outputs": [
    {
     "data": {
      "text/plain": [
       "TensorShape([Dimension(100), Dimension(1)])"
      ]
     },
     "execution_count": 15,
     "metadata": {},
     "output_type": "execute_result"
    }
   ],
   "source": [
    "y_tensor.shape"
   ]
  },
  {
   "cell_type": "markdown",
   "metadata": {},
   "source": [
    "#### Paso 7: Definir el problema por medio de cálculos por realizar en la Máquina de Cálculo TensorFlow\n",
    "\n",
    "Ahora resolvemos la matriz de parámetros con operaciones TensorFlow."
   ]
  },
  {
   "cell_type": "markdown",
   "metadata": {},
   "source": [
    "$$x = \\left( A^{T} \\cdot A \\right)^{-1} \\cdot A^{T} \\cdot y$$"
   ]
  },
  {
   "cell_type": "code",
   "execution_count": 16,
   "metadata": {},
   "outputs": [
    {
     "data": {
      "text/plain": [
       "TensorShape([Dimension(2), Dimension(2)])"
      ]
     },
     "execution_count": 16,
     "metadata": {},
     "output_type": "execute_result"
    }
   ],
   "source": [
    "tA_A = tf.matmul(tf.transpose(A_tensor), A_tensor)\n",
    "tA_A.shape"
   ]
  },
  {
   "cell_type": "code",
   "execution_count": 17,
   "metadata": {},
   "outputs": [
    {
     "data": {
      "text/plain": [
       "TensorShape([Dimension(2), Dimension(2)])"
      ]
     },
     "execution_count": 17,
     "metadata": {},
     "output_type": "execute_result"
    }
   ],
   "source": [
    "tA_A_inv = tf.matrix_inverse(tA_A)\n",
    "tA_A_inv.shape"
   ]
  },
  {
   "cell_type": "code",
   "execution_count": 18,
   "metadata": {},
   "outputs": [
    {
     "data": {
      "text/plain": [
       "TensorShape([Dimension(2), Dimension(100)])"
      ]
     },
     "execution_count": 18,
     "metadata": {},
     "output_type": "execute_result"
    }
   ],
   "source": [
    "producto = tf.matmul(tA_A_inv, tf.transpose(A_tensor))\n",
    "producto.shape"
   ]
  },
  {
   "cell_type": "code",
   "execution_count": 19,
   "metadata": {},
   "outputs": [
    {
     "data": {
      "text/plain": [
       "TensorShape([Dimension(100), Dimension(1)])"
      ]
     },
     "execution_count": 19,
     "metadata": {},
     "output_type": "execute_result"
    }
   ],
   "source": [
    "y_tensor.shape"
   ]
  },
  {
   "cell_type": "code",
   "execution_count": 20,
   "metadata": {},
   "outputs": [
    {
     "data": {
      "text/plain": [
       "TensorShape([Dimension(2), Dimension(1)])"
      ]
     },
     "execution_count": 20,
     "metadata": {},
     "output_type": "execute_result"
    }
   ],
   "source": [
    "EcuacionSolucion = tf.matmul(producto, y_tensor)\n",
    "EcuacionSolucion.shape"
   ]
  },
  {
   "cell_type": "markdown",
   "metadata": {},
   "source": [
    "#### Paso 8: Ejecutar los cálculos por medio de la Máquina de Cálculo TensorFlow"
   ]
  },
  {
   "cell_type": "markdown",
   "metadata": {},
   "source": [
    "Ejecutar las soluciones "
   ]
  },
  {
   "cell_type": "code",
   "execution_count": 21,
   "metadata": {},
   "outputs": [],
   "source": [
    "CalculoSolucion = sess.run(EcuacionSolucion)\n"
   ]
  },
  {
   "cell_type": "markdown",
   "metadata": {},
   "source": [
    "#### Paso 9: Extraer los resultados de los cálculos generados por la Máquina de Cálculo TensorFlow\n",
    "\n",
    "Obtener la pendiente y la ordenada al origen."
   ]
  },
  {
   "cell_type": "code",
   "execution_count": 22,
   "metadata": {},
   "outputs": [],
   "source": [
    "PendienteRecta = CalculoSolucion[0][0]\n",
    "OrdenadaAlOrigen = CalculoSolucion[1][0]"
   ]
  },
  {
   "cell_type": "markdown",
   "metadata": {},
   "source": [
    "#### Paso 10: Desplegar los resultados de los cálculos generados por la Máquina de Cálculo TensorFlow"
   ]
  },
  {
   "cell_type": "markdown",
   "metadata": {},
   "source": [
    "Ahora imprimimos la solución encontrada"
   ]
  },
  {
   "cell_type": "code",
   "execution_count": 23,
   "metadata": {},
   "outputs": [
    {
     "name": "stdout",
     "output_type": "stream",
     "text": [
      "pendiente de la recta: 1.0463468178578093\n",
      "ordenada al origen: -0.10237531220187332\n"
     ]
    }
   ],
   "source": [
    "print('pendiente de la recta: ' + str(PendienteRecta))\n",
    "print('ordenada al origen: ' + str(OrdenadaAlOrigen))\n",
    "\n",
    "# Get best fit line\n",
    "best_fit = []\n",
    "for i in x_vals:\n",
    "  best_fit.append(PendienteRecta*i + OrdenadaAlOrigen)"
   ]
  },
  {
   "cell_type": "markdown",
   "metadata": {},
   "source": [
    "Usamos la bliblioteca Python Matplotlib, para desplegar los resultados."
   ]
  },
  {
   "cell_type": "code",
   "execution_count": 24,
   "metadata": {},
   "outputs": [
    {
     "data": {
      "image/png": "[encoded data removed]",
      "text/plain": [
       "<Figure size 432x288 with 1 Axes>"
      ]
     },
     "metadata": {
      "needs_background": "light"
     },
     "output_type": "display_data"
    }
   ],
   "source": [
    "# Mostrar resultados gráficamente\n",
    "plt.plot(x_vals, y_vals, 'o', label='Datos muestra')\n",
    "plt.plot(x_vals, best_fit, 'r-', label='Aprox lineal', linewidth=3)\n",
    "plt.legend(loc='upper left')\n",
    "plt.show()"
   ]
  },
  {
   "cell_type": "code",
   "execution_count": null,
   "metadata": {},
   "outputs": [],
   "source": []
  }
 ],
 "metadata": {
  "kernelspec": {
   "display_name": "Python 3",
   "language": "python",
   "name": "python3"
  },
  "language_info": {
   "codemirror_mode": {
    "name": "ipython",
    "version": 3
   },
   "file_extension": ".py",
   "mimetype": "text/x-python",
   "name": "python",
   "nbconvert_exporter": "python",
   "pygments_lexer": "ipython3",
   "version": "3.7.4"
  }
 },
 "nbformat": 4,
 "nbformat_minor": 2
}
